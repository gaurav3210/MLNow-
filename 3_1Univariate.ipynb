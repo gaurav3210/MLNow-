{
  "nbformat": 4,
  "nbformat_minor": 0,
  "metadata": {
    "colab": {
      "name": "3.1Univariate.ipynb",
      "provenance": [],
      "collapsed_sections": [
        "Klm33YcpKZkl"
      ],
      "include_colab_link": true
    },
    "kernelspec": {
      "name": "python3",
      "display_name": "Python 3"
    }
  },
  "cells": [
    {
      "cell_type": "markdown",
      "metadata": {
        "id": "view-in-github",
        "colab_type": "text"
      },
      "source": [
        "<a href=\"https://colab.research.google.com/github/gaurav3210/MLNow-/blob/main/3_1Univariate.ipynb\" target=\"_parent\"><img src=\"https://colab.research.google.com/assets/colab-badge.svg\" alt=\"Open In Colab\"/></a>"
      ]
    },
    {
      "cell_type": "markdown",
      "metadata": {
        "id": "q_569ugy6lyY"
      },
      "source": [
        "> This notebook was created for code illustration of the `ML.now()` course\n",
        "\n",
        "\n",
        "`Univariate Linear Regression`\n",
        "\n",
        "[Link to Download the dataset](https://archive.ics.uci.edu/ml/datasets/Student+Performance)\n",
        "\n",
        "**Date Created**: June 6, 2021\n"
      ]
    },
    {
      "cell_type": "markdown",
      "metadata": {
        "id": "KmW9S6zjaauQ"
      },
      "source": [
        "## Setup"
      ]
    },
    {
      "cell_type": "code",
      "metadata": {
        "colab": {
          "base_uri": "https://localhost:8080/"
        },
        "id": "oX_QibhWsnnX",
        "outputId": "a449d7f5-7cea-4edf-fef6-18f09dc63cec"
      },
      "source": [
        "from google.colab import drive\n",
        "drive.mount('/content/drive')"
      ],
      "execution_count": 1,
      "outputs": [
        {
          "output_type": "stream",
          "text": [
            "Mounted at /content/drive\n"
          ],
          "name": "stdout"
        }
      ]
    },
    {
      "cell_type": "code",
      "metadata": {
        "colab": {
          "base_uri": "https://localhost:8080/"
        },
        "id": "wYuNn17Isvml",
        "outputId": "b3277181-6c0b-406c-8c27-33f32f7dd3ed"
      },
      "source": [
        "cd '/content/drive/MyDrive/ML.now()/02_EDA/student'"
      ],
      "execution_count": 3,
      "outputs": [
        {
          "output_type": "stream",
          "text": [
            "/content/drive/MyDrive/ML.now()/02_EDA/student\n"
          ],
          "name": "stdout"
        }
      ]
    },
    {
      "cell_type": "code",
      "metadata": {
        "colab": {
          "base_uri": "https://localhost:8080/"
        },
        "id": "oR69jwALs-uP",
        "outputId": "15f55411-fcd1-42de-b46e-a6d7b25d5752"
      },
      "source": [
        "ls"
      ],
      "execution_count": 4,
      "outputs": [
        {
          "output_type": "stream",
          "text": [
            "cleanedMathData.csv  student-mat.gsheet  student-por.csv\n",
            "student-mat.csv      student-merge.R     student.txt\n"
          ],
          "name": "stdout"
        }
      ]
    },
    {
      "cell_type": "code",
      "metadata": {
        "id": "0rYwvbeMtPJg"
      },
      "source": [
        "import os"
      ],
      "execution_count": 5,
      "outputs": []
    },
    {
      "cell_type": "code",
      "metadata": {
        "id": "cnGQRbmes_tZ"
      },
      "source": [
        "import pandas as pd #working with csv or excel files\n",
        "import numpy as np #working with numbers/ arrays/ tensors\n",
        "import tensorflow as tf #framework\n",
        "from tensorflow import keras #API / library \n",
        "import os #using os commands between the python language"
      ],
      "execution_count": 6,
      "outputs": []
    },
    {
      "cell_type": "code",
      "metadata": {
        "id": "VV-Ps6dJtX6B"
      },
      "source": [
        "mathData = pd.read_csv('student-mat.csv', sep=';') #load the csv file as dataframe"
      ],
      "execution_count": 7,
      "outputs": []
    },
    {
      "cell_type": "code",
      "metadata": {
        "colab": {
          "base_uri": "https://localhost:8080/",
          "height": 376
        },
        "id": "2_KId_bptr05",
        "outputId": "b777df15-a1b2-4fb4-8e7e-5b6cd482d4fe"
      },
      "source": [
        "mathData.head(10) "
      ],
      "execution_count": 8,
      "outputs": [
        {
          "output_type": "execute_result",
          "data": {
            "text/html": [
              "<div>\n",
              "<style scoped>\n",
              "    .dataframe tbody tr th:only-of-type {\n",
              "        vertical-align: middle;\n",
              "    }\n",
              "\n",
              "    .dataframe tbody tr th {\n",
              "        vertical-align: top;\n",
              "    }\n",
              "\n",
              "    .dataframe thead th {\n",
              "        text-align: right;\n",
              "    }\n",
              "</style>\n",
              "<table border=\"1\" class=\"dataframe\">\n",
              "  <thead>\n",
              "    <tr style=\"text-align: right;\">\n",
              "      <th></th>\n",
              "      <th>school</th>\n",
              "      <th>sex</th>\n",
              "      <th>age</th>\n",
              "      <th>address</th>\n",
              "      <th>famsize</th>\n",
              "      <th>Pstatus</th>\n",
              "      <th>Medu</th>\n",
              "      <th>Fedu</th>\n",
              "      <th>Mjob</th>\n",
              "      <th>Fjob</th>\n",
              "      <th>reason</th>\n",
              "      <th>guardian</th>\n",
              "      <th>traveltime</th>\n",
              "      <th>studytime</th>\n",
              "      <th>failures</th>\n",
              "      <th>schoolsup</th>\n",
              "      <th>famsup</th>\n",
              "      <th>paid</th>\n",
              "      <th>activities</th>\n",
              "      <th>nursery</th>\n",
              "      <th>higher</th>\n",
              "      <th>internet</th>\n",
              "      <th>romantic</th>\n",
              "      <th>famrel</th>\n",
              "      <th>freetime</th>\n",
              "      <th>goout</th>\n",
              "      <th>Dalc</th>\n",
              "      <th>Walc</th>\n",
              "      <th>health</th>\n",
              "      <th>absences</th>\n",
              "      <th>G1</th>\n",
              "      <th>G2</th>\n",
              "      <th>G3</th>\n",
              "    </tr>\n",
              "  </thead>\n",
              "  <tbody>\n",
              "    <tr>\n",
              "      <th>0</th>\n",
              "      <td>GP</td>\n",
              "      <td>F</td>\n",
              "      <td>18</td>\n",
              "      <td>U</td>\n",
              "      <td>GT3</td>\n",
              "      <td>A</td>\n",
              "      <td>4</td>\n",
              "      <td>4</td>\n",
              "      <td>at_home</td>\n",
              "      <td>teacher</td>\n",
              "      <td>course</td>\n",
              "      <td>mother</td>\n",
              "      <td>2</td>\n",
              "      <td>2</td>\n",
              "      <td>0</td>\n",
              "      <td>yes</td>\n",
              "      <td>no</td>\n",
              "      <td>no</td>\n",
              "      <td>no</td>\n",
              "      <td>yes</td>\n",
              "      <td>yes</td>\n",
              "      <td>no</td>\n",
              "      <td>no</td>\n",
              "      <td>4</td>\n",
              "      <td>3</td>\n",
              "      <td>4</td>\n",
              "      <td>1</td>\n",
              "      <td>1</td>\n",
              "      <td>3</td>\n",
              "      <td>6</td>\n",
              "      <td>5</td>\n",
              "      <td>6</td>\n",
              "      <td>6</td>\n",
              "    </tr>\n",
              "    <tr>\n",
              "      <th>1</th>\n",
              "      <td>GP</td>\n",
              "      <td>F</td>\n",
              "      <td>17</td>\n",
              "      <td>U</td>\n",
              "      <td>GT3</td>\n",
              "      <td>T</td>\n",
              "      <td>1</td>\n",
              "      <td>1</td>\n",
              "      <td>at_home</td>\n",
              "      <td>other</td>\n",
              "      <td>course</td>\n",
              "      <td>father</td>\n",
              "      <td>1</td>\n",
              "      <td>2</td>\n",
              "      <td>0</td>\n",
              "      <td>no</td>\n",
              "      <td>yes</td>\n",
              "      <td>no</td>\n",
              "      <td>no</td>\n",
              "      <td>no</td>\n",
              "      <td>yes</td>\n",
              "      <td>yes</td>\n",
              "      <td>no</td>\n",
              "      <td>5</td>\n",
              "      <td>3</td>\n",
              "      <td>3</td>\n",
              "      <td>1</td>\n",
              "      <td>1</td>\n",
              "      <td>3</td>\n",
              "      <td>4</td>\n",
              "      <td>5</td>\n",
              "      <td>5</td>\n",
              "      <td>6</td>\n",
              "    </tr>\n",
              "    <tr>\n",
              "      <th>2</th>\n",
              "      <td>GP</td>\n",
              "      <td>F</td>\n",
              "      <td>15</td>\n",
              "      <td>U</td>\n",
              "      <td>LE3</td>\n",
              "      <td>T</td>\n",
              "      <td>1</td>\n",
              "      <td>1</td>\n",
              "      <td>at_home</td>\n",
              "      <td>other</td>\n",
              "      <td>other</td>\n",
              "      <td>mother</td>\n",
              "      <td>1</td>\n",
              "      <td>2</td>\n",
              "      <td>3</td>\n",
              "      <td>yes</td>\n",
              "      <td>no</td>\n",
              "      <td>yes</td>\n",
              "      <td>no</td>\n",
              "      <td>yes</td>\n",
              "      <td>yes</td>\n",
              "      <td>yes</td>\n",
              "      <td>no</td>\n",
              "      <td>4</td>\n",
              "      <td>3</td>\n",
              "      <td>2</td>\n",
              "      <td>2</td>\n",
              "      <td>3</td>\n",
              "      <td>3</td>\n",
              "      <td>10</td>\n",
              "      <td>7</td>\n",
              "      <td>8</td>\n",
              "      <td>10</td>\n",
              "    </tr>\n",
              "    <tr>\n",
              "      <th>3</th>\n",
              "      <td>GP</td>\n",
              "      <td>F</td>\n",
              "      <td>15</td>\n",
              "      <td>U</td>\n",
              "      <td>GT3</td>\n",
              "      <td>T</td>\n",
              "      <td>4</td>\n",
              "      <td>2</td>\n",
              "      <td>health</td>\n",
              "      <td>services</td>\n",
              "      <td>home</td>\n",
              "      <td>mother</td>\n",
              "      <td>1</td>\n",
              "      <td>3</td>\n",
              "      <td>0</td>\n",
              "      <td>no</td>\n",
              "      <td>yes</td>\n",
              "      <td>yes</td>\n",
              "      <td>yes</td>\n",
              "      <td>yes</td>\n",
              "      <td>yes</td>\n",
              "      <td>yes</td>\n",
              "      <td>yes</td>\n",
              "      <td>3</td>\n",
              "      <td>2</td>\n",
              "      <td>2</td>\n",
              "      <td>1</td>\n",
              "      <td>1</td>\n",
              "      <td>5</td>\n",
              "      <td>2</td>\n",
              "      <td>15</td>\n",
              "      <td>14</td>\n",
              "      <td>15</td>\n",
              "    </tr>\n",
              "    <tr>\n",
              "      <th>4</th>\n",
              "      <td>GP</td>\n",
              "      <td>F</td>\n",
              "      <td>16</td>\n",
              "      <td>U</td>\n",
              "      <td>GT3</td>\n",
              "      <td>T</td>\n",
              "      <td>3</td>\n",
              "      <td>3</td>\n",
              "      <td>other</td>\n",
              "      <td>other</td>\n",
              "      <td>home</td>\n",
              "      <td>father</td>\n",
              "      <td>1</td>\n",
              "      <td>2</td>\n",
              "      <td>0</td>\n",
              "      <td>no</td>\n",
              "      <td>yes</td>\n",
              "      <td>yes</td>\n",
              "      <td>no</td>\n",
              "      <td>yes</td>\n",
              "      <td>yes</td>\n",
              "      <td>no</td>\n",
              "      <td>no</td>\n",
              "      <td>4</td>\n",
              "      <td>3</td>\n",
              "      <td>2</td>\n",
              "      <td>1</td>\n",
              "      <td>2</td>\n",
              "      <td>5</td>\n",
              "      <td>4</td>\n",
              "      <td>6</td>\n",
              "      <td>10</td>\n",
              "      <td>10</td>\n",
              "    </tr>\n",
              "    <tr>\n",
              "      <th>5</th>\n",
              "      <td>GP</td>\n",
              "      <td>M</td>\n",
              "      <td>16</td>\n",
              "      <td>U</td>\n",
              "      <td>LE3</td>\n",
              "      <td>T</td>\n",
              "      <td>4</td>\n",
              "      <td>3</td>\n",
              "      <td>services</td>\n",
              "      <td>other</td>\n",
              "      <td>reputation</td>\n",
              "      <td>mother</td>\n",
              "      <td>1</td>\n",
              "      <td>2</td>\n",
              "      <td>0</td>\n",
              "      <td>no</td>\n",
              "      <td>yes</td>\n",
              "      <td>yes</td>\n",
              "      <td>yes</td>\n",
              "      <td>yes</td>\n",
              "      <td>yes</td>\n",
              "      <td>yes</td>\n",
              "      <td>no</td>\n",
              "      <td>5</td>\n",
              "      <td>4</td>\n",
              "      <td>2</td>\n",
              "      <td>1</td>\n",
              "      <td>2</td>\n",
              "      <td>5</td>\n",
              "      <td>10</td>\n",
              "      <td>15</td>\n",
              "      <td>15</td>\n",
              "      <td>15</td>\n",
              "    </tr>\n",
              "    <tr>\n",
              "      <th>6</th>\n",
              "      <td>GP</td>\n",
              "      <td>M</td>\n",
              "      <td>16</td>\n",
              "      <td>U</td>\n",
              "      <td>LE3</td>\n",
              "      <td>T</td>\n",
              "      <td>2</td>\n",
              "      <td>2</td>\n",
              "      <td>other</td>\n",
              "      <td>other</td>\n",
              "      <td>home</td>\n",
              "      <td>mother</td>\n",
              "      <td>1</td>\n",
              "      <td>2</td>\n",
              "      <td>0</td>\n",
              "      <td>no</td>\n",
              "      <td>no</td>\n",
              "      <td>no</td>\n",
              "      <td>no</td>\n",
              "      <td>yes</td>\n",
              "      <td>yes</td>\n",
              "      <td>yes</td>\n",
              "      <td>no</td>\n",
              "      <td>4</td>\n",
              "      <td>4</td>\n",
              "      <td>4</td>\n",
              "      <td>1</td>\n",
              "      <td>1</td>\n",
              "      <td>3</td>\n",
              "      <td>0</td>\n",
              "      <td>12</td>\n",
              "      <td>12</td>\n",
              "      <td>11</td>\n",
              "    </tr>\n",
              "    <tr>\n",
              "      <th>7</th>\n",
              "      <td>GP</td>\n",
              "      <td>F</td>\n",
              "      <td>17</td>\n",
              "      <td>U</td>\n",
              "      <td>GT3</td>\n",
              "      <td>A</td>\n",
              "      <td>4</td>\n",
              "      <td>4</td>\n",
              "      <td>other</td>\n",
              "      <td>teacher</td>\n",
              "      <td>home</td>\n",
              "      <td>mother</td>\n",
              "      <td>2</td>\n",
              "      <td>2</td>\n",
              "      <td>0</td>\n",
              "      <td>yes</td>\n",
              "      <td>yes</td>\n",
              "      <td>no</td>\n",
              "      <td>no</td>\n",
              "      <td>yes</td>\n",
              "      <td>yes</td>\n",
              "      <td>no</td>\n",
              "      <td>no</td>\n",
              "      <td>4</td>\n",
              "      <td>1</td>\n",
              "      <td>4</td>\n",
              "      <td>1</td>\n",
              "      <td>1</td>\n",
              "      <td>1</td>\n",
              "      <td>6</td>\n",
              "      <td>6</td>\n",
              "      <td>5</td>\n",
              "      <td>6</td>\n",
              "    </tr>\n",
              "    <tr>\n",
              "      <th>8</th>\n",
              "      <td>GP</td>\n",
              "      <td>M</td>\n",
              "      <td>15</td>\n",
              "      <td>U</td>\n",
              "      <td>LE3</td>\n",
              "      <td>A</td>\n",
              "      <td>3</td>\n",
              "      <td>2</td>\n",
              "      <td>services</td>\n",
              "      <td>other</td>\n",
              "      <td>home</td>\n",
              "      <td>mother</td>\n",
              "      <td>1</td>\n",
              "      <td>2</td>\n",
              "      <td>0</td>\n",
              "      <td>no</td>\n",
              "      <td>yes</td>\n",
              "      <td>yes</td>\n",
              "      <td>no</td>\n",
              "      <td>yes</td>\n",
              "      <td>yes</td>\n",
              "      <td>yes</td>\n",
              "      <td>no</td>\n",
              "      <td>4</td>\n",
              "      <td>2</td>\n",
              "      <td>2</td>\n",
              "      <td>1</td>\n",
              "      <td>1</td>\n",
              "      <td>1</td>\n",
              "      <td>0</td>\n",
              "      <td>16</td>\n",
              "      <td>18</td>\n",
              "      <td>19</td>\n",
              "    </tr>\n",
              "    <tr>\n",
              "      <th>9</th>\n",
              "      <td>GP</td>\n",
              "      <td>M</td>\n",
              "      <td>15</td>\n",
              "      <td>U</td>\n",
              "      <td>GT3</td>\n",
              "      <td>T</td>\n",
              "      <td>3</td>\n",
              "      <td>4</td>\n",
              "      <td>other</td>\n",
              "      <td>other</td>\n",
              "      <td>home</td>\n",
              "      <td>mother</td>\n",
              "      <td>1</td>\n",
              "      <td>2</td>\n",
              "      <td>0</td>\n",
              "      <td>no</td>\n",
              "      <td>yes</td>\n",
              "      <td>yes</td>\n",
              "      <td>yes</td>\n",
              "      <td>yes</td>\n",
              "      <td>yes</td>\n",
              "      <td>yes</td>\n",
              "      <td>no</td>\n",
              "      <td>5</td>\n",
              "      <td>5</td>\n",
              "      <td>1</td>\n",
              "      <td>1</td>\n",
              "      <td>1</td>\n",
              "      <td>5</td>\n",
              "      <td>0</td>\n",
              "      <td>14</td>\n",
              "      <td>15</td>\n",
              "      <td>15</td>\n",
              "    </tr>\n",
              "  </tbody>\n",
              "</table>\n",
              "</div>"
            ],
            "text/plain": [
              "  school sex  age address famsize Pstatus  ...  Walc  health absences  G1  G2  G3\n",
              "0     GP   F   18       U     GT3       A  ...     1       3        6   5   6   6\n",
              "1     GP   F   17       U     GT3       T  ...     1       3        4   5   5   6\n",
              "2     GP   F   15       U     LE3       T  ...     3       3       10   7   8  10\n",
              "3     GP   F   15       U     GT3       T  ...     1       5        2  15  14  15\n",
              "4     GP   F   16       U     GT3       T  ...     2       5        4   6  10  10\n",
              "5     GP   M   16       U     LE3       T  ...     2       5       10  15  15  15\n",
              "6     GP   M   16       U     LE3       T  ...     1       3        0  12  12  11\n",
              "7     GP   F   17       U     GT3       A  ...     1       1        6   6   5   6\n",
              "8     GP   M   15       U     LE3       A  ...     1       1        0  16  18  19\n",
              "9     GP   M   15       U     GT3       T  ...     1       5        0  14  15  15\n",
              "\n",
              "[10 rows x 33 columns]"
            ]
          },
          "metadata": {
            "tags": []
          },
          "execution_count": 8
        }
      ]
    },
    {
      "cell_type": "markdown",
      "metadata": {
        "id": "i2bal50yG_PZ"
      },
      "source": [
        "We are just going to consider the columns `G1` and `G3` for univariate linear regression\n",
        "\n",
        "$G3_i = G1_i  \\cdot \\theta_1 + \\theta_0$"
      ]
    },
    {
      "cell_type": "code",
      "metadata": {
        "colab": {
          "base_uri": "https://localhost:8080/",
          "height": 202
        },
        "id": "Yw0PNCuTSEDC",
        "outputId": "8692b0f5-36d9-4bf3-ce35-0a967ca0bc29"
      },
      "source": [
        "uniMathData = mathData[['G1', 'G3']]\n",
        "uniMathData.head(5)"
      ],
      "execution_count": 9,
      "outputs": [
        {
          "output_type": "execute_result",
          "data": {
            "text/html": [
              "<div>\n",
              "<style scoped>\n",
              "    .dataframe tbody tr th:only-of-type {\n",
              "        vertical-align: middle;\n",
              "    }\n",
              "\n",
              "    .dataframe tbody tr th {\n",
              "        vertical-align: top;\n",
              "    }\n",
              "\n",
              "    .dataframe thead th {\n",
              "        text-align: right;\n",
              "    }\n",
              "</style>\n",
              "<table border=\"1\" class=\"dataframe\">\n",
              "  <thead>\n",
              "    <tr style=\"text-align: right;\">\n",
              "      <th></th>\n",
              "      <th>G1</th>\n",
              "      <th>G3</th>\n",
              "    </tr>\n",
              "  </thead>\n",
              "  <tbody>\n",
              "    <tr>\n",
              "      <th>0</th>\n",
              "      <td>5</td>\n",
              "      <td>6</td>\n",
              "    </tr>\n",
              "    <tr>\n",
              "      <th>1</th>\n",
              "      <td>5</td>\n",
              "      <td>6</td>\n",
              "    </tr>\n",
              "    <tr>\n",
              "      <th>2</th>\n",
              "      <td>7</td>\n",
              "      <td>10</td>\n",
              "    </tr>\n",
              "    <tr>\n",
              "      <th>3</th>\n",
              "      <td>15</td>\n",
              "      <td>15</td>\n",
              "    </tr>\n",
              "    <tr>\n",
              "      <th>4</th>\n",
              "      <td>6</td>\n",
              "      <td>10</td>\n",
              "    </tr>\n",
              "  </tbody>\n",
              "</table>\n",
              "</div>"
            ],
            "text/plain": [
              "   G1  G3\n",
              "0   5   6\n",
              "1   5   6\n",
              "2   7  10\n",
              "3  15  15\n",
              "4   6  10"
            ]
          },
          "metadata": {
            "tags": []
          },
          "execution_count": 9
        }
      ]
    },
    {
      "cell_type": "code",
      "metadata": {
        "id": "eyzP9mL4Hmb5"
      },
      "source": [
        "uniMathData.to_csv('univariate_MathData_1.csv')"
      ],
      "execution_count": 10,
      "outputs": []
    },
    {
      "cell_type": "code",
      "metadata": {
        "colab": {
          "base_uri": "https://localhost:8080/"
        },
        "id": "I-3qK_nNxnTA",
        "outputId": "d017f4d9-b778-4798-94f5-da18a13ae876"
      },
      "source": [
        "ls"
      ],
      "execution_count": 11,
      "outputs": [
        {
          "output_type": "stream",
          "text": [
            "cleanedMathData.csv  student-merge.R  univariate_MathData_1.csv\n",
            "student-mat.csv      student-por.csv\n",
            "student-mat.gsheet   student.txt\n"
          ],
          "name": "stdout"
        }
      ]
    },
    {
      "cell_type": "markdown",
      "metadata": {
        "id": "ImV3p6AKxszU"
      },
      "source": [
        "## Data visualization"
      ]
    },
    {
      "cell_type": "code",
      "metadata": {
        "colab": {
          "base_uri": "https://localhost:8080/",
          "height": 157
        },
        "id": "RqumcsZLxq4v",
        "outputId": "5fa62e58-0d81-49fc-d2d2-6c9e228b4990"
      },
      "source": [
        "import seaborn as sns\n",
        "sns.palplot(sns.color_palette('PuOr')) #Purple to Orange colors\n",
        "pal = sns.color_palette('PuOr', 6) #print 6 color shades from Purple to Orange\n",
        "pal.as_hex() #set hex code values for colors\n",
        "\n",
        "import matplotlib.pyplot as plt\n",
        "plt.style.use(['seaborn'])\n",
        "sns_colors = ['#c6690c', '#664697'] #orange Purple hex codes\n",
        "sns.set_palette(sns_colors) #set the palette as sns_colors \n",
        "sns.palplot(sns.color_palette(sns_colors)) #plot the color codes"
      ],
      "execution_count": 12,
      "outputs": [
        {
          "output_type": "display_data",
          "data": {
            "image/png": "[encoded data removed]",
            "text/plain": [
              "<Figure size 432x72 with 1 Axes>"
            ]
          },
          "metadata": {
            "tags": [],
            "needs_background": "light"
          }
        },
        {
          "output_type": "display_data",
          "data": {
            "image/png": "[encoded data removed]",
            "text/plain": [
              "<Figure size 144x72 with 1 Axes>"
            ]
          },
          "metadata": {
            "tags": []
          }
        }
      ]
    },
    {
      "cell_type": "code",
      "metadata": {
        "colab": {
          "base_uri": "https://localhost:8080/"
        },
        "id": "A6MT5E8Fy7MZ",
        "outputId": "c6a41afa-dda4-4907-9e63-3a82c343febc"
      },
      "source": [
        "uniMathData.columns "
      ],
      "execution_count": 13,
      "outputs": [
        {
          "output_type": "execute_result",
          "data": {
            "text/plain": [
              "Index(['G1', 'G3'], dtype='object')"
            ]
          },
          "metadata": {
            "tags": []
          },
          "execution_count": 13
        }
      ]
    },
    {
      "cell_type": "code",
      "metadata": {
        "colab": {
          "base_uri": "https://localhost:8080/",
          "height": 390
        },
        "id": "PrsTwdHHzBbk",
        "outputId": "08bb27ea-8832-42de-8e94-358dc4d9e7ce"
      },
      "source": [
        "#pairplot for all the values\n",
        "\n",
        "sns.pairplot(uniMathData,\n",
        "             x_vars = ['G1', 'G3'],\n",
        "             y_vars =  ['G1', 'G3'],\n",
        "       diag_kind='kde'\n",
        "             )"
      ],
      "execution_count": 14,
      "outputs": [
        {
          "output_type": "execute_result",
          "data": {
            "text/plain": [
              "<seaborn.axisgrid.PairGrid at 0x7f85a3eafe90>"
            ]
          },
          "metadata": {
            "tags": []
          },
          "execution_count": 14
        },
        {
          "output_type": "display_data",
          "data": {
            "image/png": "[encoded data removed]",
            "text/plain": [
              "<Figure size 360x360 with 6 Axes>"
            ]
          },
          "metadata": {
            "tags": []
          }
        }
      ]
    },
    {
      "cell_type": "markdown",
      "metadata": {
        "id": "Klm33YcpKZkl"
      },
      "source": [
        "## Data Splits"
      ]
    },
    {
      "cell_type": "code",
      "metadata": {
        "colab": {
          "base_uri": "https://localhost:8080/"
        },
        "id": "UwrSOCKS1NhN",
        "outputId": "5658fcbc-3875-431d-a0a4-b70e1cd7e765"
      },
      "source": [
        "#80-20 train-test percent split\n",
        "\n",
        "trainDataset = uniMathData.sample(frac=0.8, random_state=0) \n",
        "testDataset = uniMathData.drop(trainDataset.index)\n",
        "\n",
        "print(trainDataset.head())\n",
        "print(testDataset.head())"
      ],
      "execution_count": 15,
      "outputs": [
        {
          "output_type": "stream",
          "text": [
            "     G1  G3\n",
            "329  14  14\n",
            "318  11  10\n",
            "317   9   9\n",
            "65   16  15\n",
            "59   15  16\n",
            "    G1  G3\n",
            "9   14  15\n",
            "25   6   8\n",
            "28  11  11\n",
            "31  17  17\n",
            "32  17  16\n"
          ],
          "name": "stdout"
        }
      ]
    },
    {
      "cell_type": "code",
      "metadata": {
        "colab": {
          "base_uri": "https://localhost:8080/"
        },
        "id": "YWO2xRV53wV-",
        "outputId": "b8307ea8-3dd2-43fc-d974-1597789095dc"
      },
      "source": [
        "print(trainDataset.shape)\n",
        "print(testDataset.shape)"
      ],
      "execution_count": 16,
      "outputs": [
        {
          "output_type": "stream",
          "text": [
            "(316, 2)\n",
            "(79, 2)\n"
          ],
          "name": "stdout"
        }
      ]
    },
    {
      "cell_type": "code",
      "metadata": {
        "colab": {
          "base_uri": "https://localhost:8080/"
        },
        "id": "OmDTbvMC32hg",
        "outputId": "f3fccc53-0dfe-4e80-ca01-40ddfe8ccc3a"
      },
      "source": [
        "#copy the trainDataset dataframe for getting the features\n",
        "\n",
        "trainFeatures = trainDataset.copy()\n",
        "testFeatures = testDataset.copy()\n",
        "\n",
        "print(trainFeatures.head())\n",
        "print(testFeatures.head())"
      ],
      "execution_count": 17,
      "outputs": [
        {
          "output_type": "stream",
          "text": [
            "     G1  G3\n",
            "329  14  14\n",
            "318  11  10\n",
            "317   9   9\n",
            "65   16  15\n",
            "59   15  16\n",
            "    G1  G3\n",
            "9   14  15\n",
            "25   6   8\n",
            "28  11  11\n",
            "31  17  17\n",
            "32  17  16\n"
          ],
          "name": "stdout"
        }
      ]
    },
    {
      "cell_type": "code",
      "metadata": {
        "colab": {
          "base_uri": "https://localhost:8080/"
        },
        "id": "jSR0_uni4ayh",
        "outputId": "c747a6e7-dfeb-40fd-a92e-250fac60d797"
      },
      "source": [
        "#removing the G3 column and saving it into the labels variable\n",
        "\n",
        "trainLabels = trainFeatures.pop('G3')\n",
        "testLabels = testFeatures.pop('G3')\n",
        "\n",
        "print(trainLabels.head())\n",
        "print(testLabels.head())"
      ],
      "execution_count": 18,
      "outputs": [
        {
          "output_type": "stream",
          "text": [
            "329    14\n",
            "318    10\n",
            "317     9\n",
            "65     15\n",
            "59     16\n",
            "Name: G3, dtype: int64\n",
            "9     15\n",
            "25     8\n",
            "28    11\n",
            "31    17\n",
            "32    16\n",
            "Name: G3, dtype: int64\n"
          ],
          "name": "stdout"
        }
      ]
    },
    {
      "cell_type": "code",
      "metadata": {
        "colab": {
          "base_uri": "https://localhost:8080/"
        },
        "id": "HnGSqb-q4wk8",
        "outputId": "5efca6a6-2fdf-4b6e-8e9b-c907605207c9"
      },
      "source": [
        "print(trainFeatures.head())\n",
        "print(testFeatures.head())"
      ],
      "execution_count": 19,
      "outputs": [
        {
          "output_type": "stream",
          "text": [
            "     G1\n",
            "329  14\n",
            "318  11\n",
            "317   9\n",
            "65   16\n",
            "59   15\n",
            "    G1\n",
            "9   14\n",
            "25   6\n",
            "28  11\n",
            "31  17\n",
            "32  17\n"
          ],
          "name": "stdout"
        }
      ]
    },
    {
      "cell_type": "code",
      "metadata": {
        "id": "XPTSq34jk4o_"
      },
      "source": [
        "# univariate -> num(features) = 1\n",
        "# multvariate -> num(features) > 1 = 11\n",
        "\n",
        "\n",
        "model = tf.keras.Sequential([\n",
        "                             tf.keras.layers.Dense(1)\n",
        "\n",
        "])"
      ],
      "execution_count": 20,
      "outputs": []
    },
    {
      "cell_type": "code",
      "metadata": {
        "id": "4C4GKBdE6iCE"
      },
      "source": [
        "model.compile(\n",
        "    loss = 'mean_absolute_error', #minimizing the MAE loss\n",
        "    optimizer = tf.keras.optimizers.Adam(0.001), #learning rate specified as 0.001\n",
        "    # optimizer = 'adam', #takes the default learning rate\n",
        "    metrics = ['mae', 'mse'] #meanSquare and meanAbsolute error metrics\n",
        ")"
      ],
      "execution_count": 21,
      "outputs": []
    },
    {
      "cell_type": "code",
      "metadata": {
        "colab": {
          "base_uri": "https://localhost:8080/"
        },
        "id": "d_A7DrhB6zvm",
        "outputId": "47e72652-5dc5-4bb0-9703-e87dc6e49d27"
      },
      "source": [
        "numEpochs = 300\n",
        "history = model.fit(x = trainFeatures, y = trainLabels, validation_data = (testFeatures, testLabels), epochs = numEpochs)"
      ],
      "execution_count": 22,
      "outputs": [
        {
          "output_type": "stream",
          "text": [
            "Epoch 1/300\n",
            "10/10 [==============================] - 1s 20ms/step - loss: 7.0169 - mae: 7.0169 - mse: 55.9591 - val_loss: 7.1837 - val_mae: 7.1837 - val_mse: 58.0492\n",
            "Epoch 2/300\n",
            "10/10 [==============================] - 0s 3ms/step - loss: 6.9164 - mae: 6.9164 - mse: 54.3009 - val_loss: 7.0744 - val_mae: 7.0744 - val_mse: 56.2211\n",
            "Epoch 3/300\n",
            "10/10 [==============================] - 0s 4ms/step - loss: 6.8168 - mae: 6.8168 - mse: 52.6876 - val_loss: 6.9647 - val_mae: 6.9647 - val_mse: 54.4176\n",
            "Epoch 4/300\n",
            "10/10 [==============================] - 0s 4ms/step - loss: 6.7163 - mae: 6.7163 - mse: 51.0685 - val_loss: 6.8553 - val_mae: 6.8553 - val_mse: 52.6522\n",
            "Epoch 5/300\n",
            "10/10 [==============================] - 0s 4ms/step - loss: 6.6156 - mae: 6.6156 - mse: 49.4950 - val_loss: 6.7461 - val_mae: 6.7461 - val_mse: 50.9232\n",
            "Epoch 6/300\n",
            "10/10 [==============================] - 0s 4ms/step - loss: 6.5156 - mae: 6.5156 - mse: 47.9477 - val_loss: 6.6364 - val_mae: 6.6364 - val_mse: 49.2185\n",
            "Epoch 7/300\n",
            "10/10 [==============================] - 0s 4ms/step - loss: 6.4158 - mae: 6.4158 - mse: 46.4394 - val_loss: 6.5261 - val_mae: 6.5261 - val_mse: 47.5389\n",
            "Epoch 8/300\n",
            "10/10 [==============================] - 0s 4ms/step - loss: 6.3156 - mae: 6.3156 - mse: 44.9772 - val_loss: 6.4159 - val_mae: 6.4159 - val_mse: 45.8928\n",
            "Epoch 9/300\n",
            "10/10 [==============================] - 0s 4ms/step - loss: 6.2139 - mae: 6.2139 - mse: 43.4778 - val_loss: 6.3071 - val_mae: 6.3071 - val_mse: 44.3013\n",
            "Epoch 10/300\n",
            "10/10 [==============================] - 0s 5ms/step - loss: 6.1129 - mae: 6.1129 - mse: 42.0471 - val_loss: 6.1988 - val_mae: 6.1988 - val_mse: 42.7495\n",
            "Epoch 11/300\n",
            "10/10 [==============================] - 0s 3ms/step - loss: 6.0145 - mae: 6.0145 - mse: 40.6792 - val_loss: 6.0882 - val_mae: 6.0882 - val_mse: 41.1979\n",
            "Epoch 12/300\n",
            "10/10 [==============================] - 0s 3ms/step - loss: 5.9141 - mae: 5.9141 - mse: 39.3097 - val_loss: 5.9777 - val_mae: 5.9777 - val_mse: 39.6818\n",
            "Epoch 13/300\n",
            "10/10 [==============================] - 0s 4ms/step - loss: 5.8146 - mae: 5.8146 - mse: 37.9816 - val_loss: 5.8666 - val_mae: 5.8666 - val_mse: 38.1907\n",
            "Epoch 14/300\n",
            "10/10 [==============================] - 0s 4ms/step - loss: 5.7128 - mae: 5.7128 - mse: 36.6471 - val_loss: 5.7572 - val_mae: 5.7572 - val_mse: 36.7563\n",
            "Epoch 15/300\n",
            "10/10 [==============================] - 0s 3ms/step - loss: 5.6119 - mae: 5.6119 - mse: 35.3734 - val_loss: 5.6485 - val_mae: 5.6485 - val_mse: 35.3630\n",
            "Epoch 16/300\n",
            "10/10 [==============================] - 0s 3ms/step - loss: 5.5127 - mae: 5.5127 - mse: 34.1286 - val_loss: 5.5388 - val_mae: 5.5388 - val_mse: 33.9905\n",
            "Epoch 17/300\n",
            "10/10 [==============================] - 0s 3ms/step - loss: 5.4113 - mae: 5.4113 - mse: 32.9050 - val_loss: 5.4302 - val_mae: 5.4302 - val_mse: 32.6637\n",
            "Epoch 18/300\n",
            "10/10 [==============================] - 0s 4ms/step - loss: 5.3126 - mae: 5.3126 - mse: 31.7322 - val_loss: 5.3197 - val_mae: 5.3197 - val_mse: 31.3475\n",
            "Epoch 19/300\n",
            "10/10 [==============================] - 0s 4ms/step - loss: 5.2106 - mae: 5.2106 - mse: 30.5339 - val_loss: 5.2111 - val_mae: 5.2111 - val_mse: 30.0866\n",
            "Epoch 20/300\n",
            "10/10 [==============================] - 0s 4ms/step - loss: 5.1120 - mae: 5.1120 - mse: 29.4462 - val_loss: 5.1008 - val_mae: 5.1008 - val_mse: 28.8384\n",
            "Epoch 21/300\n",
            "10/10 [==============================] - 0s 4ms/step - loss: 5.0120 - mae: 5.0120 - mse: 28.3442 - val_loss: 4.9903 - val_mae: 4.9903 - val_mse: 27.6222\n",
            "Epoch 22/300\n",
            "10/10 [==============================] - 0s 4ms/step - loss: 4.9108 - mae: 4.9108 - mse: 27.2532 - val_loss: 4.8808 - val_mae: 4.8808 - val_mse: 26.4496\n",
            "Epoch 23/300\n",
            "10/10 [==============================] - 0s 4ms/step - loss: 4.8106 - mae: 4.8106 - mse: 26.2184 - val_loss: 4.7712 - val_mae: 4.7712 - val_mse: 25.3097\n",
            "Epoch 24/300\n",
            "10/10 [==============================] - 0s 3ms/step - loss: 4.7098 - mae: 4.7098 - mse: 25.1978 - val_loss: 4.6624 - val_mae: 4.6624 - val_mse: 24.2101\n",
            "Epoch 25/300\n",
            "10/10 [==============================] - 0s 4ms/step - loss: 4.6105 - mae: 4.6105 - mse: 24.2210 - val_loss: 4.5532 - val_mae: 4.5532 - val_mse: 23.1317\n",
            "Epoch 26/300\n",
            "10/10 [==============================] - 0s 6ms/step - loss: 4.5100 - mae: 4.5100 - mse: 23.2804 - val_loss: 4.4459 - val_mae: 4.4459 - val_mse: 22.0904\n",
            "Epoch 27/300\n",
            "10/10 [==============================] - 0s 5ms/step - loss: 4.4100 - mae: 4.4100 - mse: 22.3500 - val_loss: 4.3385 - val_mae: 4.3385 - val_mse: 21.0816\n",
            "Epoch 28/300\n",
            "10/10 [==============================] - 0s 4ms/step - loss: 4.3091 - mae: 4.3091 - mse: 21.4365 - val_loss: 4.2316 - val_mae: 4.2316 - val_mse: 20.1105\n",
            "Epoch 29/300\n",
            "10/10 [==============================] - 0s 4ms/step - loss: 4.2091 - mae: 4.2091 - mse: 20.5658 - val_loss: 4.1255 - val_mae: 4.1255 - val_mse: 19.1787\n",
            "Epoch 30/300\n",
            "10/10 [==============================] - 0s 3ms/step - loss: 4.1105 - mae: 4.1105 - mse: 19.7439 - val_loss: 4.0196 - val_mae: 4.0196 - val_mse: 18.2814\n",
            "Epoch 31/300\n",
            "10/10 [==============================] - 0s 4ms/step - loss: 4.0139 - mae: 4.0139 - mse: 18.9557 - val_loss: 3.9120 - val_mae: 3.9120 - val_mse: 17.4022\n",
            "Epoch 32/300\n",
            "10/10 [==============================] - 0s 3ms/step - loss: 3.9143 - mae: 3.9143 - mse: 18.1780 - val_loss: 3.8061 - val_mae: 3.8061 - val_mse: 16.5688\n",
            "Epoch 33/300\n",
            "10/10 [==============================] - 0s 4ms/step - loss: 3.8194 - mae: 3.8194 - mse: 17.4644 - val_loss: 3.6977 - val_mae: 3.6977 - val_mse: 15.7502\n",
            "Epoch 34/300\n",
            "10/10 [==============================] - 0s 4ms/step - loss: 3.7195 - mae: 3.7195 - mse: 16.7155 - val_loss: 3.5935 - val_mae: 3.5935 - val_mse: 14.9944\n",
            "Epoch 35/300\n",
            "10/10 [==============================] - 0s 4ms/step - loss: 3.6242 - mae: 3.6242 - mse: 16.0516 - val_loss: 3.4886 - val_mae: 3.4886 - val_mse: 14.2650\n",
            "Epoch 36/300\n",
            "10/10 [==============================] - 0s 4ms/step - loss: 3.5301 - mae: 3.5301 - mse: 15.4233 - val_loss: 3.3826 - val_mae: 3.3826 - val_mse: 13.5600\n",
            "Epoch 37/300\n",
            "10/10 [==============================] - 0s 4ms/step - loss: 3.4354 - mae: 3.4354 - mse: 14.7909 - val_loss: 3.2792 - val_mae: 3.2792 - val_mse: 12.9035\n",
            "Epoch 38/300\n",
            "10/10 [==============================] - 0s 4ms/step - loss: 3.3432 - mae: 3.3432 - mse: 14.2176 - val_loss: 3.1763 - val_mae: 3.1763 - val_mse: 12.2806\n",
            "Epoch 39/300\n",
            "10/10 [==============================] - 0s 3ms/step - loss: 3.2510 - mae: 3.2510 - mse: 13.6567 - val_loss: 3.0740 - val_mae: 3.0740 - val_mse: 11.6914\n",
            "Epoch 40/300\n",
            "10/10 [==============================] - 0s 3ms/step - loss: 3.1605 - mae: 3.1605 - mse: 13.1467 - val_loss: 2.9729 - val_mae: 2.9729 - val_mse: 11.1280\n",
            "Epoch 41/300\n",
            "10/10 [==============================] - 0s 3ms/step - loss: 3.0694 - mae: 3.0694 - mse: 12.6375 - val_loss: 2.8738 - val_mae: 2.8738 - val_mse: 10.5980\n",
            "Epoch 42/300\n",
            "10/10 [==============================] - 0s 4ms/step - loss: 2.9802 - mae: 2.9802 - mse: 12.1790 - val_loss: 2.7735 - val_mae: 2.7735 - val_mse: 10.0927\n",
            "Epoch 43/300\n",
            "10/10 [==============================] - 0s 4ms/step - loss: 2.8923 - mae: 2.8923 - mse: 11.7428 - val_loss: 2.6767 - val_mae: 2.6767 - val_mse: 9.6342\n",
            "Epoch 44/300\n",
            "10/10 [==============================] - 0s 3ms/step - loss: 2.8079 - mae: 2.8079 - mse: 11.3265 - val_loss: 2.5838 - val_mae: 2.5838 - val_mse: 9.2168\n",
            "Epoch 45/300\n",
            "10/10 [==============================] - 0s 4ms/step - loss: 2.7283 - mae: 2.7283 - mse: 10.9524 - val_loss: 2.4924 - val_mae: 2.4924 - val_mse: 8.8256\n",
            "Epoch 46/300\n",
            "10/10 [==============================] - 0s 3ms/step - loss: 2.6510 - mae: 2.6510 - mse: 10.6201 - val_loss: 2.4035 - val_mae: 2.4035 - val_mse: 8.4608\n",
            "Epoch 47/300\n",
            "10/10 [==============================] - 0s 3ms/step - loss: 2.5749 - mae: 2.5749 - mse: 10.3045 - val_loss: 2.3174 - val_mae: 2.3174 - val_mse: 8.1297\n",
            "Epoch 48/300\n",
            "10/10 [==============================] - 0s 3ms/step - loss: 2.5012 - mae: 2.5012 - mse: 10.0161 - val_loss: 2.2342 - val_mae: 2.2342 - val_mse: 7.8348\n",
            "Epoch 49/300\n",
            "10/10 [==============================] - 0s 4ms/step - loss: 2.4339 - mae: 2.4339 - mse: 9.7569 - val_loss: 2.1552 - val_mae: 2.1552 - val_mse: 7.5774\n",
            "Epoch 50/300\n",
            "10/10 [==============================] - 0s 5ms/step - loss: 2.3730 - mae: 2.3730 - mse: 9.5294 - val_loss: 2.0774 - val_mae: 2.0774 - val_mse: 7.3453\n",
            "Epoch 51/300\n",
            "10/10 [==============================] - 0s 4ms/step - loss: 2.3141 - mae: 2.3141 - mse: 9.3404 - val_loss: 2.0061 - val_mae: 2.0061 - val_mse: 7.1396\n",
            "Epoch 52/300\n",
            "10/10 [==============================] - 0s 5ms/step - loss: 2.2594 - mae: 2.2594 - mse: 9.1593 - val_loss: 1.9358 - val_mae: 1.9358 - val_mse: 6.9553\n",
            "Epoch 53/300\n",
            "10/10 [==============================] - 0s 4ms/step - loss: 2.2048 - mae: 2.2048 - mse: 8.9980 - val_loss: 1.8720 - val_mae: 1.8720 - val_mse: 6.8013\n",
            "Epoch 54/300\n",
            "10/10 [==============================] - 0s 4ms/step - loss: 2.1609 - mae: 2.1609 - mse: 8.8652 - val_loss: 1.8129 - val_mae: 1.8129 - val_mse: 6.6698\n",
            "Epoch 55/300\n",
            "10/10 [==============================] - 0s 4ms/step - loss: 2.1209 - mae: 2.1209 - mse: 8.7418 - val_loss: 1.7656 - val_mae: 1.7656 - val_mse: 6.5669\n",
            "Epoch 56/300\n",
            "10/10 [==============================] - 0s 3ms/step - loss: 2.0908 - mae: 2.0908 - mse: 8.6585 - val_loss: 1.7229 - val_mae: 1.7229 - val_mse: 6.4755\n",
            "Epoch 57/300\n",
            "10/10 [==============================] - 0s 4ms/step - loss: 2.0588 - mae: 2.0588 - mse: 8.5736 - val_loss: 1.6911 - val_mae: 1.6911 - val_mse: 6.4048\n",
            "Epoch 58/300\n",
            "10/10 [==============================] - 0s 3ms/step - loss: 2.0315 - mae: 2.0315 - mse: 8.5152 - val_loss: 1.6655 - val_mae: 1.6655 - val_mse: 6.3471\n",
            "Epoch 59/300\n",
            "10/10 [==============================] - 0s 4ms/step - loss: 2.0090 - mae: 2.0090 - mse: 8.4700 - val_loss: 1.6418 - val_mae: 1.6418 - val_mse: 6.2978\n",
            "Epoch 60/300\n",
            "10/10 [==============================] - 0s 3ms/step - loss: 1.9875 - mae: 1.9875 - mse: 8.4265 - val_loss: 1.6234 - val_mae: 1.6234 - val_mse: 6.2626\n",
            "Epoch 61/300\n",
            "10/10 [==============================] - 0s 4ms/step - loss: 1.9696 - mae: 1.9696 - mse: 8.3844 - val_loss: 1.6111 - val_mae: 1.6111 - val_mse: 6.2391\n",
            "Epoch 62/300\n",
            "10/10 [==============================] - 0s 4ms/step - loss: 1.9585 - mae: 1.9585 - mse: 8.3746 - val_loss: 1.6015 - val_mae: 1.6015 - val_mse: 6.2193\n",
            "Epoch 63/300\n",
            "10/10 [==============================] - 0s 4ms/step - loss: 1.9466 - mae: 1.9466 - mse: 8.3566 - val_loss: 1.5968 - val_mae: 1.5968 - val_mse: 6.2076\n",
            "Epoch 64/300\n",
            "10/10 [==============================] - 0s 4ms/step - loss: 1.9362 - mae: 1.9362 - mse: 8.3401 - val_loss: 1.5948 - val_mae: 1.5948 - val_mse: 6.2015\n",
            "Epoch 65/300\n",
            "10/10 [==============================] - 0s 5ms/step - loss: 1.9297 - mae: 1.9297 - mse: 8.3369 - val_loss: 1.5924 - val_mae: 1.5924 - val_mse: 6.1975\n",
            "Epoch 66/300\n",
            "10/10 [==============================] - 0s 4ms/step - loss: 1.9209 - mae: 1.9209 - mse: 8.3331 - val_loss: 1.5902 - val_mae: 1.5902 - val_mse: 6.1969\n",
            "Epoch 67/300\n",
            "10/10 [==============================] - 0s 3ms/step - loss: 1.9129 - mae: 1.9129 - mse: 8.3281 - val_loss: 1.5898 - val_mae: 1.5898 - val_mse: 6.1992\n",
            "Epoch 68/300\n",
            "10/10 [==============================] - 0s 3ms/step - loss: 1.9056 - mae: 1.9056 - mse: 8.3267 - val_loss: 1.5897 - val_mae: 1.5897 - val_mse: 6.2043\n",
            "Epoch 69/300\n",
            "10/10 [==============================] - 0s 3ms/step - loss: 1.8983 - mae: 1.8983 - mse: 8.3324 - val_loss: 1.5896 - val_mae: 1.5896 - val_mse: 6.2123\n",
            "Epoch 70/300\n",
            "10/10 [==============================] - 0s 3ms/step - loss: 1.8907 - mae: 1.8907 - mse: 8.3365 - val_loss: 1.5899 - val_mae: 1.5899 - val_mse: 6.2224\n",
            "Epoch 71/300\n",
            "10/10 [==============================] - 0s 4ms/step - loss: 1.8858 - mae: 1.8858 - mse: 8.3467 - val_loss: 1.5911 - val_mae: 1.5911 - val_mse: 6.2361\n",
            "Epoch 72/300\n",
            "10/10 [==============================] - 0s 4ms/step - loss: 1.8800 - mae: 1.8800 - mse: 8.3596 - val_loss: 1.5922 - val_mae: 1.5922 - val_mse: 6.2505\n",
            "Epoch 73/300\n",
            "10/10 [==============================] - 0s 3ms/step - loss: 1.8753 - mae: 1.8753 - mse: 8.3706 - val_loss: 1.5938 - val_mae: 1.5938 - val_mse: 6.2669\n",
            "Epoch 74/300\n",
            "10/10 [==============================] - 0s 4ms/step - loss: 1.8713 - mae: 1.8713 - mse: 8.3805 - val_loss: 1.5953 - val_mae: 1.5953 - val_mse: 6.2828\n",
            "Epoch 75/300\n",
            "10/10 [==============================] - 0s 3ms/step - loss: 1.8682 - mae: 1.8682 - mse: 8.4007 - val_loss: 1.5972 - val_mae: 1.5972 - val_mse: 6.3004\n",
            "Epoch 76/300\n",
            "10/10 [==============================] - 0s 3ms/step - loss: 1.8654 - mae: 1.8654 - mse: 8.4121 - val_loss: 1.5997 - val_mae: 1.5997 - val_mse: 6.3146\n",
            "Epoch 77/300\n",
            "10/10 [==============================] - 0s 4ms/step - loss: 1.8640 - mae: 1.8640 - mse: 8.4230 - val_loss: 1.6019 - val_mae: 1.6019 - val_mse: 6.3281\n",
            "Epoch 78/300\n",
            "10/10 [==============================] - 0s 5ms/step - loss: 1.8621 - mae: 1.8621 - mse: 8.4291 - val_loss: 1.6034 - val_mae: 1.6034 - val_mse: 6.3369\n",
            "Epoch 79/300\n",
            "10/10 [==============================] - 0s 4ms/step - loss: 1.8614 - mae: 1.8614 - mse: 8.4372 - val_loss: 1.6059 - val_mae: 1.6059 - val_mse: 6.3482\n",
            "Epoch 80/300\n",
            "10/10 [==============================] - 0s 4ms/step - loss: 1.8610 - mae: 1.8610 - mse: 8.4447 - val_loss: 1.6074 - val_mae: 1.6074 - val_mse: 6.3541\n",
            "Epoch 81/300\n",
            "10/10 [==============================] - 0s 4ms/step - loss: 1.8608 - mae: 1.8608 - mse: 8.4480 - val_loss: 1.6083 - val_mae: 1.6083 - val_mse: 6.3578\n",
            "Epoch 82/300\n",
            "10/10 [==============================] - 0s 4ms/step - loss: 1.8606 - mae: 1.8606 - mse: 8.4524 - val_loss: 1.6095 - val_mae: 1.6095 - val_mse: 6.3627\n",
            "Epoch 83/300\n",
            "10/10 [==============================] - 0s 4ms/step - loss: 1.8605 - mae: 1.8605 - mse: 8.4571 - val_loss: 1.6107 - val_mae: 1.6107 - val_mse: 6.3679\n",
            "Epoch 84/300\n",
            "10/10 [==============================] - 0s 3ms/step - loss: 1.8602 - mae: 1.8602 - mse: 8.4603 - val_loss: 1.6118 - val_mae: 1.6118 - val_mse: 6.3727\n",
            "Epoch 85/300\n",
            "10/10 [==============================] - 0s 5ms/step - loss: 1.8600 - mae: 1.8600 - mse: 8.4645 - val_loss: 1.6130 - val_mae: 1.6130 - val_mse: 6.3778\n",
            "Epoch 86/300\n",
            "10/10 [==============================] - 0s 4ms/step - loss: 1.8599 - mae: 1.8599 - mse: 8.4678 - val_loss: 1.6136 - val_mae: 1.6136 - val_mse: 6.3806\n",
            "Epoch 87/300\n",
            "10/10 [==============================] - 0s 3ms/step - loss: 1.8599 - mae: 1.8599 - mse: 8.4688 - val_loss: 1.6133 - val_mae: 1.6133 - val_mse: 6.3787\n",
            "Epoch 88/300\n",
            "10/10 [==============================] - 0s 3ms/step - loss: 1.8599 - mae: 1.8599 - mse: 8.4659 - val_loss: 1.6129 - val_mae: 1.6129 - val_mse: 6.3767\n",
            "Epoch 89/300\n",
            "10/10 [==============================] - 0s 3ms/step - loss: 1.8598 - mae: 1.8598 - mse: 8.4681 - val_loss: 1.6138 - val_mae: 1.6138 - val_mse: 6.3803\n",
            "Epoch 90/300\n",
            "10/10 [==============================] - 0s 3ms/step - loss: 1.8598 - mae: 1.8598 - mse: 8.4673 - val_loss: 1.6129 - val_mae: 1.6129 - val_mse: 6.3765\n",
            "Epoch 91/300\n",
            "10/10 [==============================] - 0s 6ms/step - loss: 1.8598 - mae: 1.8598 - mse: 8.4650 - val_loss: 1.6130 - val_mae: 1.6130 - val_mse: 6.3766\n",
            "Epoch 92/300\n",
            "10/10 [==============================] - 0s 3ms/step - loss: 1.8597 - mae: 1.8597 - mse: 8.4680 - val_loss: 1.6139 - val_mae: 1.6139 - val_mse: 6.3800\n",
            "Epoch 93/300\n",
            "10/10 [==============================] - 0s 4ms/step - loss: 1.8597 - mae: 1.8597 - mse: 8.4686 - val_loss: 1.6136 - val_mae: 1.6136 - val_mse: 6.3789\n",
            "Epoch 94/300\n",
            "10/10 [==============================] - 0s 4ms/step - loss: 1.8597 - mae: 1.8597 - mse: 8.4652 - val_loss: 1.6120 - val_mae: 1.6120 - val_mse: 6.3711\n",
            "Epoch 95/300\n",
            "10/10 [==============================] - 0s 4ms/step - loss: 1.8597 - mae: 1.8597 - mse: 8.4616 - val_loss: 1.6124 - val_mae: 1.6124 - val_mse: 6.3731\n",
            "Epoch 96/300\n",
            "10/10 [==============================] - 0s 4ms/step - loss: 1.8595 - mae: 1.8595 - mse: 8.4643 - val_loss: 1.6133 - val_mae: 1.6133 - val_mse: 6.3767\n",
            "Epoch 97/300\n",
            "10/10 [==============================] - 0s 4ms/step - loss: 1.8595 - mae: 1.8595 - mse: 8.4664 - val_loss: 1.6133 - val_mae: 1.6133 - val_mse: 6.3765\n",
            "Epoch 98/300\n",
            "10/10 [==============================] - 0s 4ms/step - loss: 1.8594 - mae: 1.8594 - mse: 8.4646 - val_loss: 1.6128 - val_mae: 1.6128 - val_mse: 6.3741\n",
            "Epoch 99/300\n",
            "10/10 [==============================] - 0s 4ms/step - loss: 1.8594 - mae: 1.8594 - mse: 8.4643 - val_loss: 1.6132 - val_mae: 1.6132 - val_mse: 6.3754\n",
            "Epoch 100/300\n",
            "10/10 [==============================] - 0s 4ms/step - loss: 1.8594 - mae: 1.8594 - mse: 8.4630 - val_loss: 1.6124 - val_mae: 1.6124 - val_mse: 6.3717\n",
            "Epoch 101/300\n",
            "10/10 [==============================] - 0s 3ms/step - loss: 1.8594 - mae: 1.8594 - mse: 8.4631 - val_loss: 1.6131 - val_mae: 1.6131 - val_mse: 6.3746\n",
            "Epoch 102/300\n",
            "10/10 [==============================] - 0s 4ms/step - loss: 1.8593 - mae: 1.8593 - mse: 8.4631 - val_loss: 1.6129 - val_mae: 1.6129 - val_mse: 6.3736\n",
            "Epoch 103/300\n",
            "10/10 [==============================] - 0s 4ms/step - loss: 1.8596 - mae: 1.8596 - mse: 8.4662 - val_loss: 1.6137 - val_mae: 1.6137 - val_mse: 6.3764\n",
            "Epoch 104/300\n",
            "10/10 [==============================] - 0s 4ms/step - loss: 1.8591 - mae: 1.8591 - mse: 8.4629 - val_loss: 1.6120 - val_mae: 1.6120 - val_mse: 6.3688\n",
            "Epoch 105/300\n",
            "10/10 [==============================] - 0s 5ms/step - loss: 1.8595 - mae: 1.8595 - mse: 8.4571 - val_loss: 1.6113 - val_mae: 1.6113 - val_mse: 6.3655\n",
            "Epoch 106/300\n",
            "10/10 [==============================] - 0s 4ms/step - loss: 1.8593 - mae: 1.8593 - mse: 8.4574 - val_loss: 1.6121 - val_mae: 1.6121 - val_mse: 6.3687\n",
            "Epoch 107/300\n",
            "10/10 [==============================] - 0s 4ms/step - loss: 1.8593 - mae: 1.8593 - mse: 8.4625 - val_loss: 1.6130 - val_mae: 1.6130 - val_mse: 6.3728\n",
            "Epoch 108/300\n",
            "10/10 [==============================] - 0s 4ms/step - loss: 1.8590 - mae: 1.8590 - mse: 8.4610 - val_loss: 1.6121 - val_mae: 1.6121 - val_mse: 6.3685\n",
            "Epoch 109/300\n",
            "10/10 [==============================] - 0s 4ms/step - loss: 1.8591 - mae: 1.8591 - mse: 8.4607 - val_loss: 1.6127 - val_mae: 1.6127 - val_mse: 6.3707\n",
            "Epoch 110/300\n",
            "10/10 [==============================] - 0s 4ms/step - loss: 1.8591 - mae: 1.8591 - mse: 8.4587 - val_loss: 1.6120 - val_mae: 1.6120 - val_mse: 6.3674\n",
            "Epoch 111/300\n",
            "10/10 [==============================] - 0s 4ms/step - loss: 1.8590 - mae: 1.8590 - mse: 8.4597 - val_loss: 1.6133 - val_mae: 1.6133 - val_mse: 6.3726\n",
            "Epoch 112/300\n",
            "10/10 [==============================] - 0s 4ms/step - loss: 1.8590 - mae: 1.8590 - mse: 8.4624 - val_loss: 1.6124 - val_mae: 1.6124 - val_mse: 6.3686\n",
            "Epoch 113/300\n",
            "10/10 [==============================] - 0s 4ms/step - loss: 1.8589 - mae: 1.8589 - mse: 8.4577 - val_loss: 1.6120 - val_mae: 1.6120 - val_mse: 6.3666\n",
            "Epoch 114/300\n",
            "10/10 [==============================] - 0s 4ms/step - loss: 1.8589 - mae: 1.8589 - mse: 8.4607 - val_loss: 1.6130 - val_mae: 1.6130 - val_mse: 6.3707\n",
            "Epoch 115/300\n",
            "10/10 [==============================] - 0s 3ms/step - loss: 1.8587 - mae: 1.8587 - mse: 8.4595 - val_loss: 1.6123 - val_mae: 1.6123 - val_mse: 6.3674\n",
            "Epoch 116/300\n",
            "10/10 [==============================] - 0s 5ms/step - loss: 1.8587 - mae: 1.8587 - mse: 8.4583 - val_loss: 1.6127 - val_mae: 1.6127 - val_mse: 6.3689\n",
            "Epoch 117/300\n",
            "10/10 [==============================] - 0s 4ms/step - loss: 1.8586 - mae: 1.8586 - mse: 8.4574 - val_loss: 1.6120 - val_mae: 1.6120 - val_mse: 6.3653\n",
            "Epoch 118/300\n",
            "10/10 [==============================] - 0s 4ms/step - loss: 1.8586 - mae: 1.8586 - mse: 8.4558 - val_loss: 1.6121 - val_mae: 1.6121 - val_mse: 6.3655\n",
            "Epoch 119/300\n",
            "10/10 [==============================] - 0s 5ms/step - loss: 1.8587 - mae: 1.8587 - mse: 8.4594 - val_loss: 1.6134 - val_mae: 1.6134 - val_mse: 6.3709\n",
            "Epoch 120/300\n",
            "10/10 [==============================] - 0s 4ms/step - loss: 1.8586 - mae: 1.8586 - mse: 8.4580 - val_loss: 1.6123 - val_mae: 1.6123 - val_mse: 6.3657\n",
            "Epoch 121/300\n",
            "10/10 [==============================] - 0s 4ms/step - loss: 1.8585 - mae: 1.8585 - mse: 8.4558 - val_loss: 1.6122 - val_mae: 1.6122 - val_mse: 6.3651\n",
            "Epoch 122/300\n",
            "10/10 [==============================] - 0s 4ms/step - loss: 1.8596 - mae: 1.8596 - mse: 8.4648 - val_loss: 1.6146 - val_mae: 1.6146 - val_mse: 6.3750\n",
            "Epoch 123/300\n",
            "10/10 [==============================] - 0s 4ms/step - loss: 1.8584 - mae: 1.8584 - mse: 8.4609 - val_loss: 1.6121 - val_mae: 1.6121 - val_mse: 6.3643\n",
            "Epoch 124/300\n",
            "10/10 [==============================] - 0s 4ms/step - loss: 1.8585 - mae: 1.8585 - mse: 8.4527 - val_loss: 1.6108 - val_mae: 1.6108 - val_mse: 6.3577\n",
            "Epoch 125/300\n",
            "10/10 [==============================] - 0s 4ms/step - loss: 1.8585 - mae: 1.8585 - mse: 8.4515 - val_loss: 1.6117 - val_mae: 1.6117 - val_mse: 6.3618\n",
            "Epoch 126/300\n",
            "10/10 [==============================] - 0s 4ms/step - loss: 1.8586 - mae: 1.8586 - mse: 8.4580 - val_loss: 1.6133 - val_mae: 1.6133 - val_mse: 6.3683\n",
            "Epoch 127/300\n",
            "10/10 [==============================] - 0s 5ms/step - loss: 1.8583 - mae: 1.8583 - mse: 8.4560 - val_loss: 1.6122 - val_mae: 1.6122 - val_mse: 6.3637\n",
            "Epoch 128/300\n",
            "10/10 [==============================] - 0s 4ms/step - loss: 1.8581 - mae: 1.8581 - mse: 8.4542 - val_loss: 1.6124 - val_mae: 1.6124 - val_mse: 6.3639\n",
            "Epoch 129/300\n",
            "10/10 [==============================] - 0s 3ms/step - loss: 1.8581 - mae: 1.8581 - mse: 8.4548 - val_loss: 1.6122 - val_mae: 1.6122 - val_mse: 6.3630\n",
            "Epoch 130/300\n",
            "10/10 [==============================] - 0s 3ms/step - loss: 1.8581 - mae: 1.8581 - mse: 8.4545 - val_loss: 1.6124 - val_mae: 1.6124 - val_mse: 6.3633\n",
            "Epoch 131/300\n",
            "10/10 [==============================] - 0s 4ms/step - loss: 1.8580 - mae: 1.8580 - mse: 8.4532 - val_loss: 1.6119 - val_mae: 1.6119 - val_mse: 6.3610\n",
            "Epoch 132/300\n",
            "10/10 [==============================] - 0s 4ms/step - loss: 1.8580 - mae: 1.8580 - mse: 8.4513 - val_loss: 1.6117 - val_mae: 1.6117 - val_mse: 6.3596\n",
            "Epoch 133/300\n",
            "10/10 [==============================] - 0s 4ms/step - loss: 1.8579 - mae: 1.8579 - mse: 8.4528 - val_loss: 1.6122 - val_mae: 1.6122 - val_mse: 6.3617\n",
            "Epoch 134/300\n",
            "10/10 [==============================] - 0s 4ms/step - loss: 1.8579 - mae: 1.8579 - mse: 8.4541 - val_loss: 1.6124 - val_mae: 1.6124 - val_mse: 6.3622\n",
            "Epoch 135/300\n",
            "10/10 [==============================] - 0s 5ms/step - loss: 1.8578 - mae: 1.8578 - mse: 8.4520 - val_loss: 1.6115 - val_mae: 1.6115 - val_mse: 6.3581\n",
            "Epoch 136/300\n",
            "10/10 [==============================] - 0s 5ms/step - loss: 1.8581 - mae: 1.8581 - mse: 8.4482 - val_loss: 1.6103 - val_mae: 1.6103 - val_mse: 6.3521\n",
            "Epoch 137/300\n",
            "10/10 [==============================] - 0s 4ms/step - loss: 1.8580 - mae: 1.8580 - mse: 8.4497 - val_loss: 1.6120 - val_mae: 1.6120 - val_mse: 6.3595\n",
            "Epoch 138/300\n",
            "10/10 [==============================] - 0s 4ms/step - loss: 1.8577 - mae: 1.8577 - mse: 8.4508 - val_loss: 1.6120 - val_mae: 1.6120 - val_mse: 6.3591\n",
            "Epoch 139/300\n",
            "10/10 [==============================] - 0s 3ms/step - loss: 1.8576 - mae: 1.8576 - mse: 8.4501 - val_loss: 1.6117 - val_mae: 1.6117 - val_mse: 6.3576\n",
            "Epoch 140/300\n",
            "10/10 [==============================] - 0s 4ms/step - loss: 1.8576 - mae: 1.8576 - mse: 8.4507 - val_loss: 1.6117 - val_mae: 1.6117 - val_mse: 6.3574\n",
            "Epoch 141/300\n",
            "10/10 [==============================] - 0s 4ms/step - loss: 1.8576 - mae: 1.8576 - mse: 8.4510 - val_loss: 1.6117 - val_mae: 1.6117 - val_mse: 6.3570\n",
            "Epoch 142/300\n",
            "10/10 [==============================] - 0s 3ms/step - loss: 1.8575 - mae: 1.8575 - mse: 8.4486 - val_loss: 1.6118 - val_mae: 1.6118 - val_mse: 6.3571\n",
            "Epoch 143/300\n",
            "10/10 [==============================] - 0s 4ms/step - loss: 1.8575 - mae: 1.8575 - mse: 8.4499 - val_loss: 1.6115 - val_mae: 1.6115 - val_mse: 6.3556\n",
            "Epoch 144/300\n",
            "10/10 [==============================] - 0s 4ms/step - loss: 1.8574 - mae: 1.8574 - mse: 8.4462 - val_loss: 1.6112 - val_mae: 1.6112 - val_mse: 6.3537\n",
            "Epoch 145/300\n",
            "10/10 [==============================] - 0s 3ms/step - loss: 1.8573 - mae: 1.8573 - mse: 8.4471 - val_loss: 1.6118 - val_mae: 1.6118 - val_mse: 6.3561\n",
            "Epoch 146/300\n",
            "10/10 [==============================] - 0s 4ms/step - loss: 1.8573 - mae: 1.8573 - mse: 8.4479 - val_loss: 1.6115 - val_mae: 1.6115 - val_mse: 6.3547\n",
            "Epoch 147/300\n",
            "10/10 [==============================] - 0s 4ms/step - loss: 1.8577 - mae: 1.8577 - mse: 8.4515 - val_loss: 1.6128 - val_mae: 1.6128 - val_mse: 6.3597\n",
            "Epoch 148/300\n",
            "10/10 [==============================] - 0s 4ms/step - loss: 1.8571 - mae: 1.8571 - mse: 8.4489 - val_loss: 1.6113 - val_mae: 1.6113 - val_mse: 6.3528\n",
            "Epoch 149/300\n",
            "10/10 [==============================] - 0s 3ms/step - loss: 1.8571 - mae: 1.8571 - mse: 8.4438 - val_loss: 1.6107 - val_mae: 1.6107 - val_mse: 6.3497\n",
            "Epoch 150/300\n",
            "10/10 [==============================] - 0s 4ms/step - loss: 1.8571 - mae: 1.8571 - mse: 8.4443 - val_loss: 1.6115 - val_mae: 1.6115 - val_mse: 6.3533\n",
            "Epoch 151/300\n",
            "10/10 [==============================] - 0s 4ms/step - loss: 1.8569 - mae: 1.8569 - mse: 8.4457 - val_loss: 1.6114 - val_mae: 1.6114 - val_mse: 6.3523\n",
            "Epoch 152/300\n",
            "10/10 [==============================] - 0s 4ms/step - loss: 1.8571 - mae: 1.8571 - mse: 8.4480 - val_loss: 1.6122 - val_mae: 1.6122 - val_mse: 6.3553\n",
            "Epoch 153/300\n",
            "10/10 [==============================] - 0s 4ms/step - loss: 1.8569 - mae: 1.8569 - mse: 8.4453 - val_loss: 1.6111 - val_mae: 1.6111 - val_mse: 6.3506\n",
            "Epoch 154/300\n",
            "10/10 [==============================] - 0s 4ms/step - loss: 1.8570 - mae: 1.8570 - mse: 8.4435 - val_loss: 1.6107 - val_mae: 1.6107 - val_mse: 6.3482\n",
            "Epoch 155/300\n",
            "10/10 [==============================] - 0s 5ms/step - loss: 1.8568 - mae: 1.8568 - mse: 8.4425 - val_loss: 1.6113 - val_mae: 1.6113 - val_mse: 6.3505\n",
            "Epoch 156/300\n",
            "10/10 [==============================] - 0s 5ms/step - loss: 1.8570 - mae: 1.8570 - mse: 8.4472 - val_loss: 1.6128 - val_mae: 1.6128 - val_mse: 6.3563\n",
            "Epoch 157/300\n",
            "10/10 [==============================] - 0s 4ms/step - loss: 1.8568 - mae: 1.8568 - mse: 8.4463 - val_loss: 1.6108 - val_mae: 1.6108 - val_mse: 6.3478\n",
            "Epoch 158/300\n",
            "10/10 [==============================] - 0s 4ms/step - loss: 1.8569 - mae: 1.8569 - mse: 8.4446 - val_loss: 1.6111 - val_mae: 1.6111 - val_mse: 6.3487\n",
            "Epoch 159/300\n",
            "10/10 [==============================] - 0s 4ms/step - loss: 1.8565 - mae: 1.8565 - mse: 8.4412 - val_loss: 1.6108 - val_mae: 1.6108 - val_mse: 6.3469\n",
            "Epoch 160/300\n",
            "10/10 [==============================] - 0s 3ms/step - loss: 1.8565 - mae: 1.8565 - mse: 8.4423 - val_loss: 1.6109 - val_mae: 1.6109 - val_mse: 6.3474\n",
            "Epoch 161/300\n",
            "10/10 [==============================] - 0s 4ms/step - loss: 1.8566 - mae: 1.8566 - mse: 8.4434 - val_loss: 1.6110 - val_mae: 1.6110 - val_mse: 6.3474\n",
            "Epoch 162/300\n",
            "10/10 [==============================] - 0s 4ms/step - loss: 1.8563 - mae: 1.8563 - mse: 8.4402 - val_loss: 1.6106 - val_mae: 1.6106 - val_mse: 6.3453\n",
            "Epoch 163/300\n",
            "10/10 [==============================] - 0s 4ms/step - loss: 1.8566 - mae: 1.8566 - mse: 8.4381 - val_loss: 1.6100 - val_mae: 1.6100 - val_mse: 6.3422\n",
            "Epoch 164/300\n",
            "10/10 [==============================] - 0s 4ms/step - loss: 1.8562 - mae: 1.8562 - mse: 8.4383 - val_loss: 1.6116 - val_mae: 1.6116 - val_mse: 6.3487\n",
            "Epoch 165/300\n",
            "10/10 [==============================] - 0s 4ms/step - loss: 1.8564 - mae: 1.8564 - mse: 8.4413 - val_loss: 1.6109 - val_mae: 1.6109 - val_mse: 6.3457\n",
            "Epoch 166/300\n",
            "10/10 [==============================] - 0s 4ms/step - loss: 1.8564 - mae: 1.8564 - mse: 8.4371 - val_loss: 1.6105 - val_mae: 1.6105 - val_mse: 6.3434\n",
            "Epoch 167/300\n",
            "10/10 [==============================] - 0s 3ms/step - loss: 1.8563 - mae: 1.8563 - mse: 8.4420 - val_loss: 1.6123 - val_mae: 1.6123 - val_mse: 6.3504\n",
            "Epoch 168/300\n",
            "10/10 [==============================] - 0s 4ms/step - loss: 1.8561 - mae: 1.8561 - mse: 8.4405 - val_loss: 1.6105 - val_mae: 1.6105 - val_mse: 6.3427\n",
            "Epoch 169/300\n",
            "10/10 [==============================] - 0s 4ms/step - loss: 1.8560 - mae: 1.8560 - mse: 8.4356 - val_loss: 1.6101 - val_mae: 1.6101 - val_mse: 6.3402\n",
            "Epoch 170/300\n",
            "10/10 [==============================] - 0s 4ms/step - loss: 1.8562 - mae: 1.8562 - mse: 8.4399 - val_loss: 1.6112 - val_mae: 1.6112 - val_mse: 6.3450\n",
            "Epoch 171/300\n",
            "10/10 [==============================] - 0s 4ms/step - loss: 1.8562 - mae: 1.8562 - mse: 8.4347 - val_loss: 1.6097 - val_mae: 1.6097 - val_mse: 6.3378\n",
            "Epoch 172/300\n",
            "10/10 [==============================] - 0s 4ms/step - loss: 1.8563 - mae: 1.8563 - mse: 8.4404 - val_loss: 1.6117 - val_mae: 1.6117 - val_mse: 6.3463\n",
            "Epoch 173/300\n",
            "10/10 [==============================] - 0s 4ms/step - loss: 1.8559 - mae: 1.8559 - mse: 8.4380 - val_loss: 1.6092 - val_mae: 1.6092 - val_mse: 6.3350\n",
            "Epoch 174/300\n",
            "10/10 [==============================] - 0s 4ms/step - loss: 1.8558 - mae: 1.8558 - mse: 8.4309 - val_loss: 1.6098 - val_mae: 1.6098 - val_mse: 6.3372\n",
            "Epoch 175/300\n",
            "10/10 [==============================] - 0s 4ms/step - loss: 1.8556 - mae: 1.8556 - mse: 8.4340 - val_loss: 1.6107 - val_mae: 1.6107 - val_mse: 6.3409\n",
            "Epoch 176/300\n",
            "10/10 [==============================] - 0s 4ms/step - loss: 1.8558 - mae: 1.8558 - mse: 8.4386 - val_loss: 1.6115 - val_mae: 1.6115 - val_mse: 6.3440\n",
            "Epoch 177/300\n",
            "10/10 [==============================] - 0s 4ms/step - loss: 1.8560 - mae: 1.8560 - mse: 8.4334 - val_loss: 1.6091 - val_mae: 1.6091 - val_mse: 6.3329\n",
            "Epoch 178/300\n",
            "10/10 [==============================] - 0s 4ms/step - loss: 1.8559 - mae: 1.8559 - mse: 8.4330 - val_loss: 1.6112 - val_mae: 1.6112 - val_mse: 6.3418\n",
            "Epoch 179/300\n",
            "10/10 [==============================] - 0s 5ms/step - loss: 1.8555 - mae: 1.8555 - mse: 8.4344 - val_loss: 1.6097 - val_mae: 1.6097 - val_mse: 6.3349\n",
            "Epoch 180/300\n",
            "10/10 [==============================] - 0s 4ms/step - loss: 1.8553 - mae: 1.8553 - mse: 8.4315 - val_loss: 1.6101 - val_mae: 1.6101 - val_mse: 6.3367\n",
            "Epoch 181/300\n",
            "10/10 [==============================] - 0s 4ms/step - loss: 1.8553 - mae: 1.8553 - mse: 8.4338 - val_loss: 1.6119 - val_mae: 1.6119 - val_mse: 6.3439\n",
            "Epoch 182/300\n",
            "10/10 [==============================] - 0s 4ms/step - loss: 1.8554 - mae: 1.8554 - mse: 8.4378 - val_loss: 1.6113 - val_mae: 1.6113 - val_mse: 6.3410\n",
            "Epoch 183/300\n",
            "10/10 [==============================] - 0s 4ms/step - loss: 1.8552 - mae: 1.8552 - mse: 8.4326 - val_loss: 1.6097 - val_mae: 1.6097 - val_mse: 6.3336\n",
            "Epoch 184/300\n",
            "10/10 [==============================] - 0s 3ms/step - loss: 1.8551 - mae: 1.8551 - mse: 8.4306 - val_loss: 1.6100 - val_mae: 1.6100 - val_mse: 6.3344\n",
            "Epoch 185/300\n",
            "10/10 [==============================] - 0s 6ms/step - loss: 1.8550 - mae: 1.8550 - mse: 8.4308 - val_loss: 1.6099 - val_mae: 1.6099 - val_mse: 6.3337\n",
            "Epoch 186/300\n",
            "10/10 [==============================] - 0s 4ms/step - loss: 1.8549 - mae: 1.8549 - mse: 8.4306 - val_loss: 1.6101 - val_mae: 1.6101 - val_mse: 6.3344\n",
            "Epoch 187/300\n",
            "10/10 [==============================] - 0s 4ms/step - loss: 1.8549 - mae: 1.8549 - mse: 8.4286 - val_loss: 1.6097 - val_mae: 1.6097 - val_mse: 6.3321\n",
            "Epoch 188/300\n",
            "10/10 [==============================] - 0s 4ms/step - loss: 1.8548 - mae: 1.8548 - mse: 8.4273 - val_loss: 1.6097 - val_mae: 1.6097 - val_mse: 6.3320\n",
            "Epoch 189/300\n",
            "10/10 [==============================] - 0s 5ms/step - loss: 1.8549 - mae: 1.8549 - mse: 8.4306 - val_loss: 1.6110 - val_mae: 1.6110 - val_mse: 6.3369\n",
            "Epoch 190/300\n",
            "10/10 [==============================] - 0s 4ms/step - loss: 1.8548 - mae: 1.8548 - mse: 8.4300 - val_loss: 1.6095 - val_mae: 1.6095 - val_mse: 6.3300\n",
            "Epoch 191/300\n",
            "10/10 [==============================] - 0s 4ms/step - loss: 1.8547 - mae: 1.8547 - mse: 8.4282 - val_loss: 1.6098 - val_mae: 1.6098 - val_mse: 6.3309\n",
            "Epoch 192/300\n",
            "10/10 [==============================] - 0s 4ms/step - loss: 1.8546 - mae: 1.8546 - mse: 8.4267 - val_loss: 1.6093 - val_mae: 1.6093 - val_mse: 6.3282\n",
            "Epoch 193/300\n",
            "10/10 [==============================] - 0s 4ms/step - loss: 1.8546 - mae: 1.8546 - mse: 8.4261 - val_loss: 1.6099 - val_mae: 1.6099 - val_mse: 6.3306\n",
            "Epoch 194/300\n",
            "10/10 [==============================] - 0s 4ms/step - loss: 1.8545 - mae: 1.8545 - mse: 8.4265 - val_loss: 1.6102 - val_mae: 1.6102 - val_mse: 6.3316\n",
            "Epoch 195/300\n",
            "10/10 [==============================] - 0s 4ms/step - loss: 1.8548 - mae: 1.8548 - mse: 8.4248 - val_loss: 1.6088 - val_mae: 1.6088 - val_mse: 6.3248\n",
            "Epoch 196/300\n",
            "10/10 [==============================] - 0s 4ms/step - loss: 1.8542 - mae: 1.8542 - mse: 8.4226 - val_loss: 1.6096 - val_mae: 1.6096 - val_mse: 6.3283\n",
            "Epoch 197/300\n",
            "10/10 [==============================] - 0s 4ms/step - loss: 1.8544 - mae: 1.8544 - mse: 8.4285 - val_loss: 1.6106 - val_mae: 1.6106 - val_mse: 6.3319\n",
            "Epoch 198/300\n",
            "10/10 [==============================] - 0s 5ms/step - loss: 1.8545 - mae: 1.8545 - mse: 8.4264 - val_loss: 1.6087 - val_mae: 1.6087 - val_mse: 6.3232\n",
            "Epoch 199/300\n",
            "10/10 [==============================] - 0s 4ms/step - loss: 1.8541 - mae: 1.8541 - mse: 8.4221 - val_loss: 1.6098 - val_mae: 1.6098 - val_mse: 6.3280\n",
            "Epoch 200/300\n",
            "10/10 [==============================] - 0s 4ms/step - loss: 1.8541 - mae: 1.8541 - mse: 8.4252 - val_loss: 1.6094 - val_mae: 1.6094 - val_mse: 6.3258\n",
            "Epoch 201/300\n",
            "10/10 [==============================] - 0s 4ms/step - loss: 1.8541 - mae: 1.8541 - mse: 8.4220 - val_loss: 1.6086 - val_mae: 1.6086 - val_mse: 6.3219\n",
            "Epoch 202/300\n",
            "10/10 [==============================] - 0s 4ms/step - loss: 1.8539 - mae: 1.8539 - mse: 8.4210 - val_loss: 1.6097 - val_mae: 1.6097 - val_mse: 6.3262\n",
            "Epoch 203/300\n",
            "10/10 [==============================] - 0s 4ms/step - loss: 1.8539 - mae: 1.8539 - mse: 8.4235 - val_loss: 1.6093 - val_mae: 1.6093 - val_mse: 6.3244\n",
            "Epoch 204/300\n",
            "10/10 [==============================] - 0s 6ms/step - loss: 1.8541 - mae: 1.8541 - mse: 8.4190 - val_loss: 1.6086 - val_mae: 1.6086 - val_mse: 6.3206\n",
            "Epoch 205/300\n",
            "10/10 [==============================] - 0s 4ms/step - loss: 1.8537 - mae: 1.8537 - mse: 8.4203 - val_loss: 1.6098 - val_mae: 1.6098 - val_mse: 6.3253\n",
            "Epoch 206/300\n",
            "10/10 [==============================] - 0s 4ms/step - loss: 1.8537 - mae: 1.8537 - mse: 8.4226 - val_loss: 1.6090 - val_mae: 1.6090 - val_mse: 6.3219\n",
            "Epoch 207/300\n",
            "10/10 [==============================] - 0s 5ms/step - loss: 1.8543 - mae: 1.8543 - mse: 8.4151 - val_loss: 1.6067 - val_mae: 1.6067 - val_mse: 6.3106\n",
            "Epoch 208/300\n",
            "10/10 [==============================] - 0s 5ms/step - loss: 1.8537 - mae: 1.8537 - mse: 8.4112 - val_loss: 1.6073 - val_mae: 1.6073 - val_mse: 6.3129\n",
            "Epoch 209/300\n",
            "10/10 [==============================] - 0s 4ms/step - loss: 1.8538 - mae: 1.8538 - mse: 8.4191 - val_loss: 1.6105 - val_mae: 1.6105 - val_mse: 6.3269\n",
            "Epoch 210/300\n",
            "10/10 [==============================] - 0s 4ms/step - loss: 1.8537 - mae: 1.8537 - mse: 8.4204 - val_loss: 1.6090 - val_mae: 1.6090 - val_mse: 6.3201\n",
            "Epoch 211/300\n",
            "10/10 [==============================] - 0s 4ms/step - loss: 1.8536 - mae: 1.8536 - mse: 8.4226 - val_loss: 1.6103 - val_mae: 1.6103 - val_mse: 6.3249\n",
            "Epoch 212/300\n",
            "10/10 [==============================] - 0s 4ms/step - loss: 1.8532 - mae: 1.8532 - mse: 8.4195 - val_loss: 1.6081 - val_mae: 1.6081 - val_mse: 6.3152\n",
            "Epoch 213/300\n",
            "10/10 [==============================] - 0s 4ms/step - loss: 1.8534 - mae: 1.8534 - mse: 8.4113 - val_loss: 1.6070 - val_mae: 1.6070 - val_mse: 6.3098\n",
            "Epoch 214/300\n",
            "10/10 [==============================] - 0s 4ms/step - loss: 1.8537 - mae: 1.8537 - mse: 8.4184 - val_loss: 1.6088 - val_mae: 1.6088 - val_mse: 6.3174\n",
            "Epoch 215/300\n",
            "10/10 [==============================] - 0s 5ms/step - loss: 1.8531 - mae: 1.8531 - mse: 8.4155 - val_loss: 1.6079 - val_mae: 1.6079 - val_mse: 6.3130\n",
            "Epoch 216/300\n",
            "10/10 [==============================] - 0s 5ms/step - loss: 1.8532 - mae: 1.8532 - mse: 8.4139 - val_loss: 1.6092 - val_mae: 1.6092 - val_mse: 6.3185\n",
            "Epoch 217/300\n",
            "10/10 [==============================] - 0s 4ms/step - loss: 1.8529 - mae: 1.8529 - mse: 8.4165 - val_loss: 1.6084 - val_mae: 1.6084 - val_mse: 6.3143\n",
            "Epoch 218/300\n",
            "10/10 [==============================] - 0s 4ms/step - loss: 1.8528 - mae: 1.8528 - mse: 8.4137 - val_loss: 1.6085 - val_mae: 1.6085 - val_mse: 6.3146\n",
            "Epoch 219/300\n",
            "10/10 [==============================] - 0s 4ms/step - loss: 1.8527 - mae: 1.8527 - mse: 8.4133 - val_loss: 1.6088 - val_mae: 1.6088 - val_mse: 6.3155\n",
            "Epoch 220/300\n",
            "10/10 [==============================] - 0s 4ms/step - loss: 1.8531 - mae: 1.8531 - mse: 8.4196 - val_loss: 1.6103 - val_mae: 1.6103 - val_mse: 6.3213\n",
            "Epoch 221/300\n",
            "10/10 [==============================] - 0s 4ms/step - loss: 1.8527 - mae: 1.8527 - mse: 8.4174 - val_loss: 1.6090 - val_mae: 1.6090 - val_mse: 6.3152\n",
            "Epoch 222/300\n",
            "10/10 [==============================] - 0s 4ms/step - loss: 1.8525 - mae: 1.8525 - mse: 8.4110 - val_loss: 1.6074 - val_mae: 1.6074 - val_mse: 6.3079\n",
            "Epoch 223/300\n",
            "10/10 [==============================] - 0s 5ms/step - loss: 1.8526 - mae: 1.8526 - mse: 8.4082 - val_loss: 1.6079 - val_mae: 1.6079 - val_mse: 6.3097\n",
            "Epoch 224/300\n",
            "10/10 [==============================] - 0s 4ms/step - loss: 1.8524 - mae: 1.8524 - mse: 8.4116 - val_loss: 1.6081 - val_mae: 1.6081 - val_mse: 6.3103\n",
            "Epoch 225/300\n",
            "10/10 [==============================] - 0s 4ms/step - loss: 1.8523 - mae: 1.8523 - mse: 8.4118 - val_loss: 1.6084 - val_mae: 1.6084 - val_mse: 6.3112\n",
            "Epoch 226/300\n",
            "10/10 [==============================] - 0s 3ms/step - loss: 1.8524 - mae: 1.8524 - mse: 8.4078 - val_loss: 1.6074 - val_mae: 1.6074 - val_mse: 6.3063\n",
            "Epoch 227/300\n",
            "10/10 [==============================] - 0s 4ms/step - loss: 1.8523 - mae: 1.8523 - mse: 8.4077 - val_loss: 1.6083 - val_mae: 1.6083 - val_mse: 6.3097\n",
            "Epoch 228/300\n",
            "10/10 [==============================] - 0s 4ms/step - loss: 1.8522 - mae: 1.8522 - mse: 8.4090 - val_loss: 1.6073 - val_mae: 1.6073 - val_mse: 6.3049\n",
            "Epoch 229/300\n",
            "10/10 [==============================] - 0s 4ms/step - loss: 1.8522 - mae: 1.8522 - mse: 8.4071 - val_loss: 1.6083 - val_mae: 1.6083 - val_mse: 6.3092\n",
            "Epoch 230/300\n",
            "10/10 [==============================] - 0s 4ms/step - loss: 1.8519 - mae: 1.8519 - mse: 8.4079 - val_loss: 1.6079 - val_mae: 1.6079 - val_mse: 6.3071\n",
            "Epoch 231/300\n",
            "10/10 [==============================] - 0s 5ms/step - loss: 1.8519 - mae: 1.8519 - mse: 8.4059 - val_loss: 1.6078 - val_mae: 1.6078 - val_mse: 6.3060\n",
            "Epoch 232/300\n",
            "10/10 [==============================] - 0s 5ms/step - loss: 1.8522 - mae: 1.8522 - mse: 8.4121 - val_loss: 1.6096 - val_mae: 1.6096 - val_mse: 6.3130\n",
            "Epoch 233/300\n",
            "10/10 [==============================] - 0s 4ms/step - loss: 1.8519 - mae: 1.8519 - mse: 8.4088 - val_loss: 1.6080 - val_mae: 1.6080 - val_mse: 6.3059\n",
            "Epoch 234/300\n",
            "10/10 [==============================] - 0s 5ms/step - loss: 1.8517 - mae: 1.8517 - mse: 8.4047 - val_loss: 1.6070 - val_mae: 1.6070 - val_mse: 6.3011\n",
            "Epoch 235/300\n",
            "10/10 [==============================] - 0s 4ms/step - loss: 1.8517 - mae: 1.8517 - mse: 8.4019 - val_loss: 1.6072 - val_mae: 1.6072 - val_mse: 6.3017\n",
            "Epoch 236/300\n",
            "10/10 [==============================] - 0s 4ms/step - loss: 1.8514 - mae: 1.8514 - mse: 8.4037 - val_loss: 1.6084 - val_mae: 1.6084 - val_mse: 6.3061\n",
            "Epoch 237/300\n",
            "10/10 [==============================] - 0s 4ms/step - loss: 1.8515 - mae: 1.8515 - mse: 8.4071 - val_loss: 1.6082 - val_mae: 1.6082 - val_mse: 6.3049\n",
            "Epoch 238/300\n",
            "10/10 [==============================] - 0s 4ms/step - loss: 1.8513 - mae: 1.8513 - mse: 8.4050 - val_loss: 1.6069 - val_mae: 1.6069 - val_mse: 6.2990\n",
            "Epoch 239/300\n",
            "10/10 [==============================] - 0s 4ms/step - loss: 1.8516 - mae: 1.8516 - mse: 8.3952 - val_loss: 1.6048 - val_mae: 1.6048 - val_mse: 6.2889\n",
            "Epoch 240/300\n",
            "10/10 [==============================] - 0s 5ms/step - loss: 1.8515 - mae: 1.8515 - mse: 8.3967 - val_loss: 1.6068 - val_mae: 1.6068 - val_mse: 6.2977\n",
            "Epoch 241/300\n",
            "10/10 [==============================] - 0s 5ms/step - loss: 1.8511 - mae: 1.8511 - mse: 8.4021 - val_loss: 1.6079 - val_mae: 1.6079 - val_mse: 6.3020\n",
            "Epoch 242/300\n",
            "10/10 [==============================] - 0s 5ms/step - loss: 1.8511 - mae: 1.8511 - mse: 8.4015 - val_loss: 1.6068 - val_mae: 1.6068 - val_mse: 6.2969\n",
            "Epoch 243/300\n",
            "10/10 [==============================] - 0s 4ms/step - loss: 1.8510 - mae: 1.8510 - mse: 8.4020 - val_loss: 1.6082 - val_mae: 1.6082 - val_mse: 6.3023\n",
            "Epoch 244/300\n",
            "10/10 [==============================] - 0s 4ms/step - loss: 1.8510 - mae: 1.8510 - mse: 8.4014 - val_loss: 1.6067 - val_mae: 1.6067 - val_mse: 6.2951\n",
            "Epoch 245/300\n",
            "10/10 [==============================] - 0s 4ms/step - loss: 1.8511 - mae: 1.8511 - mse: 8.3992 - val_loss: 1.6061 - val_mae: 1.6061 - val_mse: 6.2923\n",
            "Epoch 246/300\n",
            "10/10 [==============================] - 0s 4ms/step - loss: 1.8514 - mae: 1.8514 - mse: 8.4007 - val_loss: 1.6083 - val_mae: 1.6083 - val_mse: 6.3014\n",
            "Epoch 247/300\n",
            "10/10 [==============================] - 0s 5ms/step - loss: 1.8506 - mae: 1.8506 - mse: 8.3977 - val_loss: 1.6058 - val_mae: 1.6058 - val_mse: 6.2899\n",
            "Epoch 248/300\n",
            "10/10 [==============================] - 0s 5ms/step - loss: 1.8507 - mae: 1.8507 - mse: 8.3936 - val_loss: 1.6058 - val_mae: 1.6058 - val_mse: 6.2896\n",
            "Epoch 249/300\n",
            "10/10 [==============================] - 0s 4ms/step - loss: 1.8504 - mae: 1.8504 - mse: 8.3959 - val_loss: 1.6077 - val_mae: 1.6077 - val_mse: 6.2977\n",
            "Epoch 250/300\n",
            "10/10 [==============================] - 0s 4ms/step - loss: 1.8506 - mae: 1.8506 - mse: 8.4015 - val_loss: 1.6083 - val_mae: 1.6083 - val_mse: 6.2996\n",
            "Epoch 251/300\n",
            "10/10 [==============================] - 0s 4ms/step - loss: 1.8506 - mae: 1.8506 - mse: 8.4008 - val_loss: 1.6061 - val_mae: 1.6061 - val_mse: 6.2894\n",
            "Epoch 252/300\n",
            "10/10 [==============================] - 0s 4ms/step - loss: 1.8504 - mae: 1.8504 - mse: 8.3921 - val_loss: 1.6059 - val_mae: 1.6059 - val_mse: 6.2883\n",
            "Epoch 253/300\n",
            "10/10 [==============================] - 0s 4ms/step - loss: 1.8502 - mae: 1.8502 - mse: 8.3961 - val_loss: 1.6082 - val_mae: 1.6082 - val_mse: 6.2980\n",
            "Epoch 254/300\n",
            "10/10 [==============================] - 0s 4ms/step - loss: 1.8503 - mae: 1.8503 - mse: 8.3997 - val_loss: 1.6067 - val_mae: 1.6067 - val_mse: 6.2909\n",
            "Epoch 255/300\n",
            "10/10 [==============================] - 0s 4ms/step - loss: 1.8502 - mae: 1.8502 - mse: 8.3962 - val_loss: 1.6077 - val_mae: 1.6077 - val_mse: 6.2950\n",
            "Epoch 256/300\n",
            "10/10 [==============================] - 0s 4ms/step - loss: 1.8499 - mae: 1.8499 - mse: 8.3933 - val_loss: 1.6056 - val_mae: 1.6056 - val_mse: 6.2852\n",
            "Epoch 257/300\n",
            "10/10 [==============================] - 0s 4ms/step - loss: 1.8501 - mae: 1.8501 - mse: 8.3877 - val_loss: 1.6052 - val_mae: 1.6052 - val_mse: 6.2826\n",
            "Epoch 258/300\n",
            "10/10 [==============================] - 0s 4ms/step - loss: 1.8499 - mae: 1.8499 - mse: 8.3918 - val_loss: 1.6072 - val_mae: 1.6072 - val_mse: 6.2912\n",
            "Epoch 259/300\n",
            "10/10 [==============================] - 0s 4ms/step - loss: 1.8499 - mae: 1.8499 - mse: 8.3901 - val_loss: 1.6048 - val_mae: 1.6048 - val_mse: 6.2801\n",
            "Epoch 260/300\n",
            "10/10 [==============================] - 0s 4ms/step - loss: 1.8505 - mae: 1.8505 - mse: 8.3947 - val_loss: 1.6078 - val_mae: 1.6078 - val_mse: 6.2929\n",
            "Epoch 261/300\n",
            "10/10 [==============================] - 0s 4ms/step - loss: 1.8497 - mae: 1.8497 - mse: 8.3917 - val_loss: 1.6057 - val_mae: 1.6057 - val_mse: 6.2835\n",
            "Epoch 262/300\n",
            "10/10 [==============================] - 0s 4ms/step - loss: 1.8503 - mae: 1.8503 - mse: 8.3963 - val_loss: 1.6075 - val_mae: 1.6075 - val_mse: 6.2908\n",
            "Epoch 263/300\n",
            "10/10 [==============================] - 0s 4ms/step - loss: 1.8497 - mae: 1.8497 - mse: 8.3884 - val_loss: 1.6036 - val_mae: 1.6036 - val_mse: 6.2730\n",
            "Epoch 264/300\n",
            "10/10 [==============================] - 0s 5ms/step - loss: 1.8496 - mae: 1.8496 - mse: 8.3809 - val_loss: 1.6046 - val_mae: 1.6046 - val_mse: 6.2769\n",
            "Epoch 265/300\n",
            "10/10 [==============================] - 0s 6ms/step - loss: 1.8492 - mae: 1.8492 - mse: 8.3854 - val_loss: 1.6066 - val_mae: 1.6066 - val_mse: 6.2854\n",
            "Epoch 266/300\n",
            "10/10 [==============================] - 0s 5ms/step - loss: 1.8502 - mae: 1.8502 - mse: 8.3990 - val_loss: 1.6089 - val_mae: 1.6089 - val_mse: 6.2948\n",
            "Epoch 267/300\n",
            "10/10 [==============================] - 0s 5ms/step - loss: 1.8491 - mae: 1.8491 - mse: 8.3945 - val_loss: 1.6058 - val_mae: 1.6058 - val_mse: 6.2813\n",
            "Epoch 268/300\n",
            "10/10 [==============================] - 0s 5ms/step - loss: 1.8489 - mae: 1.8489 - mse: 8.3841 - val_loss: 1.6049 - val_mae: 1.6049 - val_mse: 6.2762\n",
            "Epoch 269/300\n",
            "10/10 [==============================] - 0s 4ms/step - loss: 1.8491 - mae: 1.8491 - mse: 8.3821 - val_loss: 1.6046 - val_mae: 1.6046 - val_mse: 6.2747\n",
            "Epoch 270/300\n",
            "10/10 [==============================] - 0s 5ms/step - loss: 1.8486 - mae: 1.8486 - mse: 8.3834 - val_loss: 1.6063 - val_mae: 1.6063 - val_mse: 6.2818\n",
            "Epoch 271/300\n",
            "10/10 [==============================] - 0s 4ms/step - loss: 1.8492 - mae: 1.8492 - mse: 8.3923 - val_loss: 1.6082 - val_mae: 1.6082 - val_mse: 6.2895\n",
            "Epoch 272/300\n",
            "10/10 [==============================] - 0s 7ms/step - loss: 1.8487 - mae: 1.8487 - mse: 8.3870 - val_loss: 1.6053 - val_mae: 1.6053 - val_mse: 6.2766\n",
            "Epoch 273/300\n",
            "10/10 [==============================] - 0s 4ms/step - loss: 1.8491 - mae: 1.8491 - mse: 8.3779 - val_loss: 1.6029 - val_mae: 1.6029 - val_mse: 6.2652\n",
            "Epoch 274/300\n",
            "10/10 [==============================] - 0s 5ms/step - loss: 1.8488 - mae: 1.8488 - mse: 8.3798 - val_loss: 1.6056 - val_mae: 1.6056 - val_mse: 6.2772\n",
            "Epoch 275/300\n",
            "10/10 [==============================] - 0s 4ms/step - loss: 1.8484 - mae: 1.8484 - mse: 8.3844 - val_loss: 1.6060 - val_mae: 1.6060 - val_mse: 6.2785\n",
            "Epoch 276/300\n",
            "10/10 [==============================] - 0s 4ms/step - loss: 1.8484 - mae: 1.8484 - mse: 8.3821 - val_loss: 1.6051 - val_mae: 1.6051 - val_mse: 6.2739\n",
            "Epoch 277/300\n",
            "10/10 [==============================] - 0s 4ms/step - loss: 1.8482 - mae: 1.8482 - mse: 8.3820 - val_loss: 1.6067 - val_mae: 1.6067 - val_mse: 6.2802\n",
            "Epoch 278/300\n",
            "10/10 [==============================] - 0s 5ms/step - loss: 1.8482 - mae: 1.8482 - mse: 8.3831 - val_loss: 1.6054 - val_mae: 1.6054 - val_mse: 6.2742\n",
            "Epoch 279/300\n",
            "10/10 [==============================] - 0s 4ms/step - loss: 1.8480 - mae: 1.8480 - mse: 8.3811 - val_loss: 1.6047 - val_mae: 1.6047 - val_mse: 6.2706\n",
            "Epoch 280/300\n",
            "10/10 [==============================] - 0s 5ms/step - loss: 1.8483 - mae: 1.8483 - mse: 8.3733 - val_loss: 1.6030 - val_mae: 1.6030 - val_mse: 6.2621\n",
            "Epoch 281/300\n",
            "10/10 [==============================] - 0s 5ms/step - loss: 1.8482 - mae: 1.8482 - mse: 8.3783 - val_loss: 1.6054 - val_mae: 1.6054 - val_mse: 6.2728\n",
            "Epoch 282/300\n",
            "10/10 [==============================] - 0s 4ms/step - loss: 1.8478 - mae: 1.8478 - mse: 8.3813 - val_loss: 1.6058 - val_mae: 1.6058 - val_mse: 6.2741\n",
            "Epoch 283/300\n",
            "10/10 [==============================] - 0s 6ms/step - loss: 1.8477 - mae: 1.8477 - mse: 8.3791 - val_loss: 1.6044 - val_mae: 1.6044 - val_mse: 6.2672\n",
            "Epoch 284/300\n",
            "10/10 [==============================] - 0s 4ms/step - loss: 1.8477 - mae: 1.8477 - mse: 8.3739 - val_loss: 1.6044 - val_mae: 1.6044 - val_mse: 6.2669\n",
            "Epoch 285/300\n",
            "10/10 [==============================] - 0s 4ms/step - loss: 1.8478 - mae: 1.8478 - mse: 8.3791 - val_loss: 1.6061 - val_mae: 1.6061 - val_mse: 6.2741\n",
            "Epoch 286/300\n",
            "10/10 [==============================] - 0s 4ms/step - loss: 1.8478 - mae: 1.8478 - mse: 8.3751 - val_loss: 1.6041 - val_mae: 1.6041 - val_mse: 6.2647\n",
            "Epoch 287/300\n",
            "10/10 [==============================] - 0s 5ms/step - loss: 1.8477 - mae: 1.8477 - mse: 8.3766 - val_loss: 1.6055 - val_mae: 1.6055 - val_mse: 6.2704\n",
            "Epoch 288/300\n",
            "10/10 [==============================] - 0s 4ms/step - loss: 1.8473 - mae: 1.8473 - mse: 8.3747 - val_loss: 1.6043 - val_mae: 1.6043 - val_mse: 6.2648\n",
            "Epoch 289/300\n",
            "10/10 [==============================] - 0s 4ms/step - loss: 1.8474 - mae: 1.8474 - mse: 8.3706 - val_loss: 1.6034 - val_mae: 1.6034 - val_mse: 6.2602\n",
            "Epoch 290/300\n",
            "10/10 [==============================] - 0s 4ms/step - loss: 1.8471 - mae: 1.8471 - mse: 8.3725 - val_loss: 1.6054 - val_mae: 1.6054 - val_mse: 6.2684\n",
            "Epoch 291/300\n",
            "10/10 [==============================] - 0s 4ms/step - loss: 1.8475 - mae: 1.8475 - mse: 8.3711 - val_loss: 1.6033 - val_mae: 1.6033 - val_mse: 6.2585\n",
            "Epoch 292/300\n",
            "10/10 [==============================] - 0s 5ms/step - loss: 1.8473 - mae: 1.8473 - mse: 8.3749 - val_loss: 1.6060 - val_mae: 1.6060 - val_mse: 6.2701\n",
            "Epoch 293/300\n",
            "10/10 [==============================] - 0s 4ms/step - loss: 1.8468 - mae: 1.8468 - mse: 8.3740 - val_loss: 1.6043 - val_mae: 1.6043 - val_mse: 6.2625\n",
            "Epoch 294/300\n",
            "10/10 [==============================] - 0s 4ms/step - loss: 1.8468 - mae: 1.8468 - mse: 8.3714 - val_loss: 1.6043 - val_mae: 1.6043 - val_mse: 6.2620\n",
            "Epoch 295/300\n",
            "10/10 [==============================] - 0s 5ms/step - loss: 1.8473 - mae: 1.8473 - mse: 8.3783 - val_loss: 1.6067 - val_mae: 1.6067 - val_mse: 6.2715\n",
            "Epoch 296/300\n",
            "10/10 [==============================] - 0s 4ms/step - loss: 1.8465 - mae: 1.8465 - mse: 8.3742 - val_loss: 1.6046 - val_mae: 1.6046 - val_mse: 6.2624\n",
            "Epoch 297/300\n",
            "10/10 [==============================] - 0s 6ms/step - loss: 1.8469 - mae: 1.8469 - mse: 8.3662 - val_loss: 1.6013 - val_mae: 1.6013 - val_mse: 6.2468\n",
            "Epoch 298/300\n",
            "10/10 [==============================] - 0s 5ms/step - loss: 1.8467 - mae: 1.8467 - mse: 8.3639 - val_loss: 1.6035 - val_mae: 1.6035 - val_mse: 6.2564\n",
            "Epoch 299/300\n",
            "10/10 [==============================] - 0s 4ms/step - loss: 1.8462 - mae: 1.8462 - mse: 8.3678 - val_loss: 1.6041 - val_mae: 1.6041 - val_mse: 6.2588\n",
            "Epoch 300/300\n",
            "10/10 [==============================] - 0s 5ms/step - loss: 1.8461 - mae: 1.8461 - mse: 8.3680 - val_loss: 1.6039 - val_mae: 1.6039 - val_mse: 6.2575\n"
          ],
          "name": "stdout"
        }
      ]
    },
    {
      "cell_type": "code",
      "metadata": {
        "id": "6zYkLGS6wQyy",
        "colab": {
          "base_uri": "https://localhost:8080/"
        },
        "outputId": "2527a342-ac07-4e75-8f63-38c84120f6ed"
      },
      "source": [
        "print(history)"
      ],
      "execution_count": 23,
      "outputs": [
        {
          "output_type": "stream",
          "text": [
            "<tensorflow.python.keras.callbacks.History object at 0x7f8596cd7690>\n"
          ],
          "name": "stdout"
        }
      ]
    },
    {
      "cell_type": "code",
      "metadata": {
        "colab": {
          "base_uri": "https://localhost:8080/"
        },
        "id": "1lsbk_ohAu1j",
        "outputId": "d083d28f-f5e2-48d4-ac59-dc2dea3a2836"
      },
      "source": [
        "model.summary()"
      ],
      "execution_count": 24,
      "outputs": [
        {
          "output_type": "stream",
          "text": [
            "Model: \"sequential\"\n",
            "_________________________________________________________________\n",
            "Layer (type)                 Output Shape              Param #   \n",
            "=================================================================\n",
            "dense (Dense)                (None, 1)                 2         \n",
            "=================================================================\n",
            "Total params: 2\n",
            "Trainable params: 2\n",
            "Non-trainable params: 0\n",
            "_________________________________________________________________\n"
          ],
          "name": "stdout"
        }
      ]
    },
    {
      "cell_type": "code",
      "metadata": {
        "colab": {
          "base_uri": "https://localhost:8080/",
          "height": 1000
        },
        "id": "P6VnkPim7tH7",
        "outputId": "e5e7f5d1-bb87-4049-c758-7b257453d6ba"
      },
      "source": [
        "\n",
        "def curvePlots(tempString):\n",
        "  plt.plot(history.history[tempString])\n",
        "  plt.plot(history.history[f'val_{tempString}'])\n",
        "  plt.xlabel('NumEpochs')\n",
        "  plt.ylabel(tempString)\n",
        "  plt.legend([tempString, f'val_{tempString}'])\n",
        "  plt.show()\n",
        "\n",
        "\n",
        "curvePlots('mse')\n",
        "curvePlots('mae')\n",
        "curvePlots('loss')"
      ],
      "execution_count": 25,
      "outputs": [
        {
          "output_type": "display_data",
          "data": {
            "image/png": "[encoded data removed]",
            "text/plain": [
              "<Figure size 576x396 with 1 Axes>"
            ]
          },
          "metadata": {
            "tags": []
          }
        },
        {
          "output_type": "display_data",
          "data": {
            "image/png": "[encoded data removed]",
            "text/plain": [
              "<Figure size 576x396 with 1 Axes>"
            ]
          },
          "metadata": {
            "tags": []
          }
        },
        {
          "output_type": "display_data",
          "data": {
            "image/png": "[encoded data removed]",
            "text/plain": [
              "<Figure size 576x396 with 1 Axes>"
            ]
          },
          "metadata": {
            "tags": []
          }
        }
      ]
    },
    {
      "cell_type": "code",
      "metadata": {
        "id": "esW0eHQbzoj4",
        "colab": {
          "base_uri": "https://localhost:8080/"
        },
        "outputId": "fb1b5288-6f52-4a0e-a40c-4a7623742930"
      },
      "source": [
        "model.predict([1])  #in the form of list"
      ],
      "execution_count": 27,
      "outputs": [
        {
          "output_type": "execute_result",
          "data": {
            "text/plain": [
              "array([[1.2667601]], dtype=float32)"
            ]
          },
          "metadata": {
            "tags": []
          },
          "execution_count": 27
        }
      ]
    },
    {
      "cell_type": "code",
      "metadata": {
        "colab": {
          "base_uri": "https://localhost:8080/"
        },
        "id": "KJrLWamX8Tg-",
        "outputId": "3d3c90ad-50ca-437b-87ab-e65ba242616a"
      },
      "source": [
        "# testPreds = model.predict(testFeatures).flatten() #array of all prediction values\n",
        "\n",
        "#for single values\n",
        "\n",
        "print(f'Prediction for input value 1: {model.predict([1])}')\n",
        "\n",
        "\n",
        "# for a list of values\n",
        "tempListforPreds = [1,2,3,4,5]\n",
        "print(f'''\n",
        "input List = {tempListforPreds}\n",
        "List of Predictions:\n",
        "{model.predict(tempListforPreds)}\n",
        "List of Predictions (flattened out):\n",
        "{model.predict(tempListforPreds).flatten()}\n",
        "''')"
      ],
      "execution_count": 29,
      "outputs": [
        {
          "output_type": "stream",
          "text": [
            "Prediction for input value 1: [[1.2667601]]\n",
            "\n",
            "input List = [1, 2, 3, 4, 5]\n",
            "List of Predictions:\n",
            "[[1.2667601]\n",
            " [2.242404 ]\n",
            " [3.218048 ]\n",
            " [4.193692 ]\n",
            " [5.169336 ]]\n",
            "List of Predictions (flattened out):\n",
            "[1.2667601 2.242404  3.218048  4.193692  5.169336 ]\n",
            "\n"
          ],
          "name": "stdout"
        }
      ]
    },
    {
      "cell_type": "code",
      "metadata": {
        "id": "vJNFh6hc0K6r",
        "colab": {
          "base_uri": "https://localhost:8080/"
        },
        "outputId": "7ca2d4b2-c5e8-4131-8770-1a9247c153d4"
      },
      "source": [
        "print(testFeatures)"
      ],
      "execution_count": 30,
      "outputs": [
        {
          "output_type": "stream",
          "text": [
            "     G1\n",
            "9    14\n",
            "25    6\n",
            "28   11\n",
            "31   17\n",
            "32   17\n",
            "..   ..\n",
            "365  10\n",
            "367   7\n",
            "379  10\n",
            "381   7\n",
            "393  11\n",
            "\n",
            "[79 rows x 1 columns]\n"
          ],
          "name": "stdout"
        }
      ]
    },
    {
      "cell_type": "code",
      "metadata": {
        "id": "MniGZOu50IyN"
      },
      "source": [
        "testPreds = model.predict(testFeatures).flatten() #array of all prediction values"
      ],
      "execution_count": 31,
      "outputs": []
    },
    {
      "cell_type": "code",
      "metadata": {
        "id": "du0Orwu40Qan",
        "colab": {
          "base_uri": "https://localhost:8080/"
        },
        "outputId": "7a357c13-dc92-47f8-9146-302ad277754a"
      },
      "source": [
        "print(len(testPreds))\n",
        "print(testPreds)"
      ],
      "execution_count": 32,
      "outputs": [
        {
          "output_type": "stream",
          "text": [
            "79\n",
            "[13.95013    6.14498   11.023199  16.877064  16.877064  11.998844\n",
            " 13.95013   18.828352  18.828352   8.096268  13.95013   12.974487\n",
            "  8.096268   7.1206236  9.071911  12.974487  11.023199  15.901419\n",
            "  7.1206236 10.047556  14.925776  12.974487  13.95013   15.901419\n",
            "  7.1206236  7.1206236  8.096268  10.047556  11.998844  10.047556\n",
            " 11.998844  12.974487  10.047556   6.14498    9.071911  11.998844\n",
            "  7.1206236  8.096268  13.95013    9.071911   9.071911   7.1206236\n",
            " 11.998844   6.14498   12.974487   7.1206236  7.1206236 11.023199\n",
            " 12.974487  16.877064  11.998844  14.925776   9.071911  11.998844\n",
            " 14.925776  11.998844  14.925776  11.998844  14.925776  11.023199\n",
            " 11.998844   8.096268  15.901419   7.1206236 15.901419  11.023199\n",
            " 15.901419  12.974487   8.096268   8.096268  11.998844  17.852707\n",
            " 12.974487  15.901419  10.047556   7.1206236 10.047556   7.1206236\n",
            " 11.023199 ]\n"
          ],
          "name": "stdout"
        }
      ]
    },
    {
      "cell_type": "code",
      "metadata": {
        "colab": {
          "base_uri": "https://localhost:8080/",
          "height": 361
        },
        "id": "EfP8bB_v89Wa",
        "outputId": "64d5945e-94ac-4e2e-cc6a-6aa3dee30fe2"
      },
      "source": [
        "# prediciton plot --> how well is your model predicting across the actual labels\n",
        "\n",
        "def predPlot(labels, predictions):\n",
        "  plt.scatter(labels, predictions)\n",
        "  plt.ylabel('Predictions')\n",
        "  plt.xlabel('True Value or Labels')\n",
        "  plt.axis('equal')\n",
        "  plt.axis('square')\n",
        "  plt.xlim([0, plt.xlim()[1]])\n",
        "  plt.ylim([0, plt.ylim()[1]])\n",
        "  plt.show()\n",
        "\n",
        "predPlot(testLabels, testPreds)"
      ],
      "execution_count": 33,
      "outputs": [
        {
          "output_type": "display_data",
          "data": {
            "image/png": "[encoded data removed]",
            "text/plain": [
              "<Figure size 576x396 with 1 Axes>"
            ]
          },
          "metadata": {
            "tags": []
          }
        }
      ]
    },
    {
      "cell_type": "code",
      "metadata": {
        "colab": {
          "base_uri": "https://localhost:8080/",
          "height": 361
        },
        "id": "70608Z0o9tWL",
        "outputId": "11cad4d9-4a8b-45a0-ba84-1c73f1aa0e96"
      },
      "source": [
        "#error plot --> gaussian distribution \n",
        "\n",
        "def errorPlot(preds, labels, counts):\n",
        "  errors = preds - labels\n",
        "  plt.hist(errors, counts)\n",
        "  plt.xlabel('Error')\n",
        "  plt.ylabel('Counts')\n",
        "  plt.show()\n",
        "\n",
        "errorPlot(testPreds, testLabels, numEpochs)"
      ],
      "execution_count": 34,
      "outputs": [
        {
          "output_type": "display_data",
          "data": {
            "image/png": "[encoded data removed]",
            "text/plain": [
              "<Figure size 576x396 with 1 Axes>"
            ]
          },
          "metadata": {
            "tags": []
          }
        }
      ]
    },
    {
      "cell_type": "markdown",
      "metadata": {
        "id": "oshf2mUG1vPk"
      },
      "source": [
        "Note: \n",
        "\n",
        "\n",
        "Validation loss `val_loss` is a metric that tells you how much deviation from the actual label can you expect in the predicted label\n",
        "\n",
        "To optimize your predicitons -->\n",
        "\n",
        "- Hyperparameter tuning --> `numEpochs`, `optimizer`, `learning_rate`, lossFunctions"
      ]
    }
  ]
}